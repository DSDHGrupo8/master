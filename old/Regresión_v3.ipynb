{
 "cells": [
  {
   "cell_type": "code",
   "execution_count": 45,
   "metadata": {},
   "outputs": [],
   "source": [
    "%matplotlib inline\n",
    "\n",
    "import pandas as pd\n",
    "import numpy as np\n",
    "import matplotlib.pyplot as plt\n",
    "from statistics import mode \n",
    "from matplotlib import cm as cm\n",
    "from sklearn import svm\n",
    "import seaborn as sns\n",
    "from sklearn import datasets, linear_model\n",
    "from sklearn.metrics import mean_squared_error, r2_score\n",
    "from sklearn.model_selection import train_test_split\n",
    "pd.set_option('display.max_columns', 500)"
   ]
  },
  {
   "cell_type": "code",
   "execution_count": 2,
   "metadata": {
    "scrolled": false
   },
   "outputs": [
    {
     "data": {
      "text/html": [
       "<div>\n",
       "<style scoped>\n",
       "    .dataframe tbody tr th:only-of-type {\n",
       "        vertical-align: middle;\n",
       "    }\n",
       "\n",
       "    .dataframe tbody tr th {\n",
       "        vertical-align: top;\n",
       "    }\n",
       "\n",
       "    .dataframe thead th {\n",
       "        text-align: right;\n",
       "    }\n",
       "</style>\n",
       "<table border=\"1\" class=\"dataframe\">\n",
       "  <thead>\n",
       "    <tr style=\"text-align: right;\">\n",
       "      <th></th>\n",
       "      <th>property_type</th>\n",
       "      <th>lat</th>\n",
       "      <th>lon</th>\n",
       "      <th>price_aprox_usd</th>\n",
       "      <th>surface_total_in_m2</th>\n",
       "      <th>price_usd_per_m2</th>\n",
       "      <th>expenses</th>\n",
       "      <th>description</th>\n",
       "      <th>title</th>\n",
       "      <th>dummy_property_type__apartment</th>\n",
       "      <th>dummy_property_type__house</th>\n",
       "      <th>dummy_property_type__store</th>\n",
       "      <th>distSubte</th>\n",
       "      <th>dummy_pileta</th>\n",
       "      <th>dummy_balcon</th>\n",
       "      <th>dummy_patio</th>\n",
       "      <th>dummy_lavadero</th>\n",
       "      <th>dummy_cochera</th>\n",
       "      <th>dummy_luminoso</th>\n",
       "      <th>dummy_terraza</th>\n",
       "      <th>dummy_quincho</th>\n",
       "      <th>dummy_baulera</th>\n",
       "      <th>dummy_parrilla</th>\n",
       "      <th>dummy_premium</th>\n",
       "      <th>dummy_piscina</th>\n",
       "      <th>dummy_ascensor</th>\n",
       "      <th>dummy_profesional</th>\n",
       "      <th>dummy_alarma</th>\n",
       "      <th>dummy_amenities</th>\n",
       "      <th>dummy_calefaccion</th>\n",
       "      <th>dummy_pozo</th>\n",
       "      <th>dummy_gimnasio</th>\n",
       "      <th>dummy_aire acondicionado</th>\n",
       "      <th>dummy_spa</th>\n",
       "      <th>dummy_jacuzzi</th>\n",
       "      <th>dummy_cine</th>\n",
       "    </tr>\n",
       "  </thead>\n",
       "  <tbody>\n",
       "    <tr>\n",
       "      <th>0</th>\n",
       "      <td>apartment</td>\n",
       "      <td>-34.622211</td>\n",
       "      <td>-58.439128</td>\n",
       "      <td>110000</td>\n",
       "      <td>50</td>\n",
       "      <td>2200.000000</td>\n",
       "      <td>NaN</td>\n",
       "      <td>Departamento de 3 Ambientes al Contrafrente. S...</td>\n",
       "      <td>CABALLITO 3 AMB. EN VENTA Listo para escriturar</td>\n",
       "      <td>1</td>\n",
       "      <td>0</td>\n",
       "      <td>0</td>\n",
       "      <td>0.274837</td>\n",
       "      <td>0</td>\n",
       "      <td>0</td>\n",
       "      <td>0</td>\n",
       "      <td>0</td>\n",
       "      <td>0</td>\n",
       "      <td>0</td>\n",
       "      <td>0</td>\n",
       "      <td>0</td>\n",
       "      <td>0</td>\n",
       "      <td>0</td>\n",
       "      <td>0</td>\n",
       "      <td>0</td>\n",
       "      <td>0</td>\n",
       "      <td>0</td>\n",
       "      <td>0</td>\n",
       "      <td>0</td>\n",
       "      <td>0</td>\n",
       "      <td>0</td>\n",
       "      <td>0</td>\n",
       "      <td>0</td>\n",
       "      <td>0</td>\n",
       "      <td>0</td>\n",
       "      <td>0</td>\n",
       "    </tr>\n",
       "    <tr>\n",
       "      <th>1</th>\n",
       "      <td>apartment</td>\n",
       "      <td>-34.623894</td>\n",
       "      <td>-58.446861</td>\n",
       "      <td>170500</td>\n",
       "      <td>100</td>\n",
       "      <td>1705.000000</td>\n",
       "      <td>NaN</td>\n",
       "      <td>14 exclusivos semi-pisos.Excelentes detalles d...</td>\n",
       "      <td>Semi-Pisos de gran categoria.</td>\n",
       "      <td>1</td>\n",
       "      <td>0</td>\n",
       "      <td>0</td>\n",
       "      <td>0.168539</td>\n",
       "      <td>0</td>\n",
       "      <td>0</td>\n",
       "      <td>0</td>\n",
       "      <td>0</td>\n",
       "      <td>0</td>\n",
       "      <td>0</td>\n",
       "      <td>0</td>\n",
       "      <td>0</td>\n",
       "      <td>0</td>\n",
       "      <td>0</td>\n",
       "      <td>0</td>\n",
       "      <td>0</td>\n",
       "      <td>0</td>\n",
       "      <td>0</td>\n",
       "      <td>0</td>\n",
       "      <td>0</td>\n",
       "      <td>0</td>\n",
       "      <td>0</td>\n",
       "      <td>0</td>\n",
       "      <td>0</td>\n",
       "      <td>0</td>\n",
       "      <td>0</td>\n",
       "      <td>0</td>\n",
       "    </tr>\n",
       "    <tr>\n",
       "      <th>2</th>\n",
       "      <td>apartment</td>\n",
       "      <td>-34.620928</td>\n",
       "      <td>-58.445874</td>\n",
       "      <td>220410</td>\n",
       "      <td>81</td>\n",
       "      <td>2721.111111</td>\n",
       "      <td>NaN</td>\n",
       "      <td>Excelentes detalles de terminación, y diseño.G...</td>\n",
       "      <td>Excelencia y Calidad.</td>\n",
       "      <td>1</td>\n",
       "      <td>0</td>\n",
       "      <td>0</td>\n",
       "      <td>0.384946</td>\n",
       "      <td>0</td>\n",
       "      <td>0</td>\n",
       "      <td>0</td>\n",
       "      <td>0</td>\n",
       "      <td>0</td>\n",
       "      <td>0</td>\n",
       "      <td>0</td>\n",
       "      <td>0</td>\n",
       "      <td>1</td>\n",
       "      <td>0</td>\n",
       "      <td>0</td>\n",
       "      <td>0</td>\n",
       "      <td>0</td>\n",
       "      <td>0</td>\n",
       "      <td>0</td>\n",
       "      <td>1</td>\n",
       "      <td>0</td>\n",
       "      <td>0</td>\n",
       "      <td>0</td>\n",
       "      <td>0</td>\n",
       "      <td>0</td>\n",
       "      <td>0</td>\n",
       "      <td>0</td>\n",
       "    </tr>\n",
       "    <tr>\n",
       "      <th>3</th>\n",
       "      <td>apartment</td>\n",
       "      <td>-34.620928</td>\n",
       "      <td>-58.445874</td>\n",
       "      <td>222780</td>\n",
       "      <td>81</td>\n",
       "      <td>2750.370370</td>\n",
       "      <td>NaN</td>\n",
       "      <td>Excelentes detalles de terminación, y diseño.G...</td>\n",
       "      <td>Excelencia y Calidad.</td>\n",
       "      <td>1</td>\n",
       "      <td>0</td>\n",
       "      <td>0</td>\n",
       "      <td>0.384946</td>\n",
       "      <td>0</td>\n",
       "      <td>0</td>\n",
       "      <td>0</td>\n",
       "      <td>0</td>\n",
       "      <td>0</td>\n",
       "      <td>0</td>\n",
       "      <td>0</td>\n",
       "      <td>0</td>\n",
       "      <td>1</td>\n",
       "      <td>0</td>\n",
       "      <td>0</td>\n",
       "      <td>0</td>\n",
       "      <td>0</td>\n",
       "      <td>0</td>\n",
       "      <td>0</td>\n",
       "      <td>1</td>\n",
       "      <td>0</td>\n",
       "      <td>0</td>\n",
       "      <td>0</td>\n",
       "      <td>0</td>\n",
       "      <td>0</td>\n",
       "      <td>0</td>\n",
       "      <td>0</td>\n",
       "    </tr>\n",
       "    <tr>\n",
       "      <th>4</th>\n",
       "      <td>apartment</td>\n",
       "      <td>-34.628786</td>\n",
       "      <td>-58.427783</td>\n",
       "      <td>108000</td>\n",
       "      <td>70</td>\n",
       "      <td>1542.857143</td>\n",
       "      <td>NaN</td>\n",
       "      <td>Al frente muy luminoso.Living comedor, a balco...</td>\n",
       "      <td>Venta 3 Ambientes con dependencias</td>\n",
       "      <td>1</td>\n",
       "      <td>0</td>\n",
       "      <td>0</td>\n",
       "      <td>0.216992</td>\n",
       "      <td>0</td>\n",
       "      <td>1</td>\n",
       "      <td>0</td>\n",
       "      <td>1</td>\n",
       "      <td>0</td>\n",
       "      <td>1</td>\n",
       "      <td>0</td>\n",
       "      <td>0</td>\n",
       "      <td>0</td>\n",
       "      <td>0</td>\n",
       "      <td>0</td>\n",
       "      <td>0</td>\n",
       "      <td>0</td>\n",
       "      <td>0</td>\n",
       "      <td>0</td>\n",
       "      <td>0</td>\n",
       "      <td>0</td>\n",
       "      <td>0</td>\n",
       "      <td>0</td>\n",
       "      <td>0</td>\n",
       "      <td>0</td>\n",
       "      <td>0</td>\n",
       "      <td>0</td>\n",
       "    </tr>\n",
       "  </tbody>\n",
       "</table>\n",
       "</div>"
      ],
      "text/plain": [
       "  property_type        lat        lon  price_aprox_usd  surface_total_in_m2  \\\n",
       "0     apartment -34.622211 -58.439128           110000                   50   \n",
       "1     apartment -34.623894 -58.446861           170500                  100   \n",
       "2     apartment -34.620928 -58.445874           220410                   81   \n",
       "3     apartment -34.620928 -58.445874           222780                   81   \n",
       "4     apartment -34.628786 -58.427783           108000                   70   \n",
       "\n",
       "   price_usd_per_m2  expenses  \\\n",
       "0       2200.000000       NaN   \n",
       "1       1705.000000       NaN   \n",
       "2       2721.111111       NaN   \n",
       "3       2750.370370       NaN   \n",
       "4       1542.857143       NaN   \n",
       "\n",
       "                                         description  \\\n",
       "0  Departamento de 3 Ambientes al Contrafrente. S...   \n",
       "1  14 exclusivos semi-pisos.Excelentes detalles d...   \n",
       "2  Excelentes detalles de terminación, y diseño.G...   \n",
       "3  Excelentes detalles de terminación, y diseño.G...   \n",
       "4  Al frente muy luminoso.Living comedor, a balco...   \n",
       "\n",
       "                                             title  \\\n",
       "0  CABALLITO 3 AMB. EN VENTA Listo para escriturar   \n",
       "1                    Semi-Pisos de gran categoria.   \n",
       "2                            Excelencia y Calidad.   \n",
       "3                            Excelencia y Calidad.   \n",
       "4               Venta 3 Ambientes con dependencias   \n",
       "\n",
       "   dummy_property_type__apartment  dummy_property_type__house  \\\n",
       "0                               1                           0   \n",
       "1                               1                           0   \n",
       "2                               1                           0   \n",
       "3                               1                           0   \n",
       "4                               1                           0   \n",
       "\n",
       "   dummy_property_type__store  distSubte  dummy_pileta  dummy_balcon  \\\n",
       "0                           0   0.274837             0             0   \n",
       "1                           0   0.168539             0             0   \n",
       "2                           0   0.384946             0             0   \n",
       "3                           0   0.384946             0             0   \n",
       "4                           0   0.216992             0             1   \n",
       "\n",
       "   dummy_patio  dummy_lavadero  dummy_cochera  dummy_luminoso  dummy_terraza  \\\n",
       "0            0               0              0               0              0   \n",
       "1            0               0              0               0              0   \n",
       "2            0               0              0               0              0   \n",
       "3            0               0              0               0              0   \n",
       "4            0               1              0               1              0   \n",
       "\n",
       "   dummy_quincho  dummy_baulera  dummy_parrilla  dummy_premium  dummy_piscina  \\\n",
       "0              0              0               0              0              0   \n",
       "1              0              0               0              0              0   \n",
       "2              0              1               0              0              0   \n",
       "3              0              1               0              0              0   \n",
       "4              0              0               0              0              0   \n",
       "\n",
       "   dummy_ascensor  dummy_profesional  dummy_alarma  dummy_amenities  \\\n",
       "0               0                  0             0                0   \n",
       "1               0                  0             0                0   \n",
       "2               0                  0             0                1   \n",
       "3               0                  0             0                1   \n",
       "4               0                  0             0                0   \n",
       "\n",
       "   dummy_calefaccion  dummy_pozo  dummy_gimnasio  dummy_aire acondicionado  \\\n",
       "0                  0           0               0                         0   \n",
       "1                  0           0               0                         0   \n",
       "2                  0           0               0                         0   \n",
       "3                  0           0               0                         0   \n",
       "4                  0           0               0                         0   \n",
       "\n",
       "   dummy_spa  dummy_jacuzzi  dummy_cine  \n",
       "0          0              0           0  \n",
       "1          0              0           0  \n",
       "2          0              0           0  \n",
       "3          0              0           0  \n",
       "4          0              0           0  "
      ]
     },
     "execution_count": 2,
     "metadata": {},
     "output_type": "execute_result"
    }
   ],
   "source": [
    "df = pd.read_csv('properati_caballito_train.csv')\n",
    "cols = ['Unnamed: 0', 'Unnamed: 0.1','place_name', 'precio_m2_usd']\n",
    "df.drop(cols, axis=1, inplace=True)\n",
    "df.head()"
   ]
  },
  {
   "cell_type": "code",
   "execution_count": null,
   "metadata": {
    "scrolled": false
   },
   "outputs": [],
   "source": [
    "df.isnull().sum()"
   ]
  },
  {
   "cell_type": "code",
   "execution_count": 3,
   "metadata": {
    "scrolled": true
   },
   "outputs": [],
   "source": [
    "df_mini_Y = df.dropna()"
   ]
  },
  {
   "cell_type": "code",
   "execution_count": null,
   "metadata": {},
   "outputs": [],
   "source": [
    "df_mini_Y.isna().sum()"
   ]
  },
  {
   "cell_type": "code",
   "execution_count": 8,
   "metadata": {},
   "outputs": [
    {
     "name": "stdout",
     "output_type": "stream",
     "text": [
      "(1563, 36)\n",
      "(258, 36)\n"
     ]
    }
   ],
   "source": [
    "print(df.shape)\n",
    "print(df_mini_Y.shape)"
   ]
  },
  {
   "cell_type": "code",
   "execution_count": 11,
   "metadata": {},
   "outputs": [
    {
     "data": {
      "text/plain": [
       "Index(['lat', 'lon', 'surface_total_in_m2', 'expenses',\n",
       "       'dummy_property_type__apartment', 'dummy_property_type__house',\n",
       "       'dummy_property_type__store', 'distSubte', 'dummy_pileta',\n",
       "       'dummy_balcon', 'dummy_patio', 'dummy_lavadero', 'dummy_cochera',\n",
       "       'dummy_luminoso', 'dummy_terraza', 'dummy_quincho', 'dummy_baulera',\n",
       "       'dummy_parrilla', 'dummy_premium', 'dummy_piscina', 'dummy_ascensor',\n",
       "       'dummy_profesional', 'dummy_alarma', 'dummy_amenities',\n",
       "       'dummy_calefaccion', 'dummy_pozo', 'dummy_gimnasio',\n",
       "       'dummy_aire acondicionado', 'dummy_spa', 'dummy_jacuzzi', 'dummy_cine'],\n",
       "      dtype='object')"
      ]
     },
     "execution_count": 11,
     "metadata": {},
     "output_type": "execute_result"
    }
   ],
   "source": [
    "cols = ['property_type','price_aprox_usd',\n",
    "       'price_usd_per_m2', 'description', 'title']\n",
    "df_mini_X = df_mini_Y.drop(cols, axis=1)\n",
    "df_mini_X.columns"
   ]
  },
  {
   "cell_type": "code",
   "execution_count": null,
   "metadata": {},
   "outputs": [],
   "source": [
    "sns.pairplot(df_mini_Y)"
   ]
  },
  {
   "cell_type": "code",
   "execution_count": null,
   "metadata": {
    "scrolled": true
   },
   "outputs": [],
   "source": [
    "plt.figure(figsize=(10,10))\n",
    "sns.heatmap(df.corr());"
   ]
  },
  {
   "cell_type": "code",
   "execution_count": null,
   "metadata": {},
   "outputs": [],
   "source": [
    "k = 33\n",
    "cols = df.corr().nlargest(k,'price_usd_per_m2')['price_usd_per_m2'].index\n",
    "cm = df[cols].corr()\n",
    "plt.figure(figsize=(15,10))\n",
    "sns.heatmap(cm, annot=True, cmap = 'OrRd');"
   ]
  },
  {
   "cell_type": "code",
   "execution_count": 30,
   "metadata": {},
   "outputs": [
    {
     "name": "stdout",
     "output_type": "stream",
     "text": [
      "[-7.38290925e+03 -3.14184518e+03 -4.40624048e+00  1.21575599e-01\n",
      "  4.57323894e+02  2.89901436e-12 -8.46966941e-12  9.66256000e+01\n",
      " -4.98231294e+02 -1.20396376e+02 -2.30240571e+02  2.73970647e+01\n",
      "  3.36310242e+02 -7.84951499e+01  6.97020690e+00 -3.75922395e+02\n",
      " -2.21412427e+02 -4.25633138e+01 -1.36424205e-12  5.45419790e+02\n",
      " -1.16894819e+02  3.44264904e+01 -4.73584179e+01  4.16956684e+02\n",
      "  1.18964205e+02 -1.14041568e+02  1.78967532e+02  4.06005715e+02\n",
      "  2.34828247e+01 -3.17426438e+02 -2.80082905e+02]\n",
      "-437337.26084209955\n"
     ]
    }
   ],
   "source": [
    "# Seleccionar modelo\n",
    "from sklearn.linear_model import LinearRegression\n",
    "# Elegir hiperparámetros\n",
    "model = LinearRegression(fit_intercept=True)\n",
    "# Preparar los datos en una matriz de features\n",
    "# Crear X e y\n",
    "X = df_mini_X #2 dimensiones\n",
    "y = df_mini_Y['price_usd_per_m2'] #1 dimensión\n",
    "\n",
    "# Split entrenamiento / testeo para CV\n",
    "from sklearn.model_selection import train_test_split\n",
    "Xtrain, Xtest, ytrain, ytest = train_test_split(X, y, random_state=1)\n",
    "#Ajustar el modelo a los datos\n",
    "model.fit(Xtrain, ytrain)\n",
    "print (model.coef_)\n",
    "print (model.intercept_)"
   ]
  },
  {
   "cell_type": "code",
   "execution_count": 31,
   "metadata": {},
   "outputs": [
    {
     "name": "stdout",
     "output_type": "stream",
     "text": [
      "MAE: 282.9930095762939\n",
      "MSE: 139005.61201106184\n",
      "RMSE: 372.83456386319904\n",
      "R2: 0.5279461967115268\n"
     ]
    }
   ],
   "source": [
    "#Evaluar\n",
    "ypred = model.predict(Xtest)\n",
    "from sklearn import metrics\n",
    "print ('MAE:', metrics.mean_absolute_error(ytest, ypred))\n",
    "print ('MSE:', metrics.mean_squared_error(ytest, ypred))\n",
    "print ('RMSE:', np.sqrt(metrics.mean_squared_error(ytest, ypred)))\n",
    "print ('R2:', metrics.r2_score(ytest, ypred))"
   ]
  },
  {
   "cell_type": "code",
   "execution_count": 52,
   "metadata": {},
   "outputs": [
    {
     "data": {
      "image/png": "[encoded data removed]",
      "text/plain": [
       "<Figure size 432x288 with 1 Axes>"
      ]
     },
     "metadata": {
      "needs_background": "light"
     },
     "output_type": "display_data"
    },
    {
     "name": "stdout",
     "output_type": "stream",
     "text": [
      "MSE: 144242.09472503501\n",
      "                                           0\n",
      "lat                            -8.916534e+03\n",
      "lon                            -4.297853e+03\n",
      "surface_total_in_m2            -4.391171e+00\n",
      "expenses                        1.219400e-01\n",
      "dummy_property_type__apartment  5.462271e+02\n",
      "dummy_property_type__house     -2.216893e-12\n",
      "dummy_property_type__store     -1.193712e-12\n",
      "distSubte                       1.348794e+02\n",
      "dummy_pileta                   -1.719722e+02\n",
      "dummy_balcon                   -1.263104e+02\n",
      "dummy_patio                    -2.497990e+02\n",
      "dummy_lavadero                  7.270503e+00\n",
      "dummy_cochera                   2.968558e+02\n",
      "dummy_luminoso                 -1.022879e+02\n",
      "dummy_terraza                   1.043513e+02\n",
      "dummy_quincho                  -3.953023e+02\n",
      "dummy_baulera                  -2.178172e+02\n",
      "dummy_parrilla                 -8.292229e+01\n",
      "dummy_premium                   1.818989e-12\n",
      "dummy_piscina                   4.636569e+02\n",
      "dummy_ascensor                 -3.678222e+01\n",
      "dummy_profesional               7.218860e+00\n",
      "dummy_alarma                   -1.626652e+02\n",
      "dummy_amenities                 3.574145e+02\n",
      "dummy_calefaccion               4.837755e+01\n",
      "dummy_pozo                     -3.495311e+02\n",
      "dummy_gimnasio                  3.818458e+02\n",
      "dummy_aire acondicionado        3.604711e+02\n",
      "dummy_spa                       5.422650e+01\n",
      "dummy_jacuzzi                  -5.337646e+02\n",
      "dummy_cine                     -3.259803e+02\n",
      "Intecept                       -5.580971e+05\n",
      "R2                              4.664118e-01\n"
     ]
    }
   ],
   "source": [
    "def sum_mod(model, X):\n",
    "    a = pd.DataFrame(model.coef_ , X.columns.values)\n",
    "    a = a.append(pd.DataFrame([model.intercept_, model.score(X, y)], index=['Intecept','R2']))\n",
    "    return(a)\n",
    "\n",
    "lm = linear_model.LinearRegression()\n",
    "X = df_mini_X\n",
    "y = df_mini_Y['price_usd_per_m2']\n",
    "model = lm.fit(X, y)\n",
    "predictions = model.predict(X)\n",
    "\n",
    "# Plot the model\n",
    "plt.plot(y,y, '-.',c='grey')\n",
    "plt.scatter(predictions, y, s=30, c='r', marker='+', zorder=10)\n",
    "plt.xlabel(\"Predicted Values from all values\")\n",
    "plt.ylabel(\"Actual Values\")\n",
    "plt.show()\n",
    "print (\"MSE:\", mean_squared_error(y, predictions))\n",
    "print (sum_mod(model, X))"
   ]
  },
  {
   "cell_type": "markdown",
   "metadata": {},
   "source": [
    "### DF más grande tirando columna expenses"
   ]
  },
  {
   "cell_type": "code",
   "execution_count": 16,
   "metadata": {},
   "outputs": [
    {
     "name": "stdout",
     "output_type": "stream",
     "text": [
      "Index(['lat', 'lon', 'price_aprox_usd', 'surface_total_in_m2',\n",
      "       'price_usd_per_m2', 'dummy_property_type__apartment',\n",
      "       'dummy_property_type__house', 'dummy_property_type__store', 'distSubte',\n",
      "       'dummy_pileta', 'dummy_balcon', 'dummy_patio', 'dummy_lavadero',\n",
      "       'dummy_cochera', 'dummy_luminoso', 'dummy_terraza', 'dummy_quincho',\n",
      "       'dummy_baulera', 'dummy_parrilla', 'dummy_premium', 'dummy_piscina',\n",
      "       'dummy_ascensor', 'dummy_profesional', 'dummy_alarma',\n",
      "       'dummy_amenities', 'dummy_calefaccion', 'dummy_pozo', 'dummy_gimnasio',\n",
      "       'dummy_aire acondicionado', 'dummy_spa', 'dummy_jacuzzi', 'dummy_cine'],\n",
      "      dtype='object')\n",
      "(1410, 32)\n"
     ]
    }
   ],
   "source": [
    "# Y\n",
    "cols = ['property_type', 'description', 'title', 'expenses']\n",
    "df_no_expenses_Y = df.drop(cols, axis=1)\n",
    "df_no_expenses_Y = df_no_expenses_Y.dropna()\n",
    "print(df_no_expenses_Y.columns) \n",
    "print(df_no_expenses_Y.shape)"
   ]
  },
  {
   "cell_type": "code",
   "execution_count": 38,
   "metadata": {},
   "outputs": [
    {
     "name": "stdout",
     "output_type": "stream",
     "text": [
      "Index(['lat', 'lon', 'surface_total_in_m2', 'dummy_property_type__apartment',\n",
      "       'dummy_property_type__house', 'dummy_property_type__store', 'distSubte',\n",
      "       'dummy_pileta', 'dummy_balcon', 'dummy_patio', 'dummy_lavadero',\n",
      "       'dummy_cochera', 'dummy_luminoso', 'dummy_terraza', 'dummy_quincho',\n",
      "       'dummy_baulera', 'dummy_parrilla', 'dummy_premium', 'dummy_piscina',\n",
      "       'dummy_ascensor', 'dummy_profesional', 'dummy_alarma',\n",
      "       'dummy_amenities', 'dummy_calefaccion', 'dummy_pozo', 'dummy_gimnasio',\n",
      "       'dummy_aire acondicionado', 'dummy_spa', 'dummy_jacuzzi', 'dummy_cine'],\n",
      "      dtype='object')\n",
      "(1410, 30)\n"
     ]
    }
   ],
   "source": [
    "# X\n",
    "cols = ['price_aprox_usd','price_usd_per_m2']\n",
    "df_no_expenses_X = df_no_expenses_Y.drop(cols, axis=1)\n",
    "print(df_no_expenses_X.columns)\n",
    "print(df_no_expenses_X.shape)"
   ]
  },
  {
   "cell_type": "code",
   "execution_count": 33,
   "metadata": {},
   "outputs": [
    {
     "name": "stdout",
     "output_type": "stream",
     "text": [
      "[-5.43311349e+05  1.71805986e+05  1.39203249e+03  4.93890066e+04\n",
      "  1.05159507e+04 -1.61561897e+04 -4.73308401e+02 -1.36165648e+03\n",
      " -8.40388184e+03  6.72829974e+03  8.80817406e+03  3.64303415e+04\n",
      " -8.33342238e+03  1.31717851e+04  3.73714063e+03  8.98980217e+02\n",
      " -3.12735796e+03  1.87170453e+04  2.43364638e+04 -1.59547297e+04\n",
      " -2.13886065e+04 -8.48738121e+03  9.52109047e+03  7.05490954e+03\n",
      " -3.79398969e+04 -1.75127254e+04  1.53006746e+04  2.10142920e+04\n",
      " -3.46295550e+04  4.48139772e+03]\n",
      "-8754127.333684204\n"
     ]
    }
   ],
   "source": [
    "# Seleccionar modelo\n",
    "from sklearn.linear_model import LinearRegression\n",
    "# Elegir hiperparámetros\n",
    "model_1 = LinearRegression(fit_intercept=True)\n",
    "# Preparar los datos en una matriz de features\n",
    "# Crear X e y\n",
    "X1 = df_no_expenses_X #2 dimensiones\n",
    "y1 = df_no_expenses_Y['price_aprox_usd'] #1 dimensión\n",
    "\n",
    "# Split entrenamiento / testeo para CV\n",
    "from sklearn.model_selection import train_test_split\n",
    "Xtrain, Xtest, ytrain, ytest = train_test_split(X1, y1, random_state=1)\n",
    "#Ajustar el modelo a los datos\n",
    "model_1.fit(Xtrain, ytrain)\n",
    "print (model_1.coef_)\n",
    "print (model_1.intercept_)"
   ]
  },
  {
   "cell_type": "code",
   "execution_count": 28,
   "metadata": {},
   "outputs": [
    {
     "name": "stdout",
     "output_type": "stream",
     "text": [
      "MAE: 40666.359750072224\n",
      "MSE: 5583600396.816097\n",
      "RMSE: 74723.49293773744\n",
      "R2: 0.6383637697824358\n"
     ]
    }
   ],
   "source": [
    "#Evaluar\n",
    "ypred = model_1.predict(Xtest)\n",
    "from sklearn import metrics\n",
    "print ('MAE:', metrics.mean_absolute_error(ytest, ypred))\n",
    "print ('MSE:', metrics.mean_squared_error(ytest, ypred))\n",
    "print ('RMSE:', np.sqrt(metrics.mean_squared_error(ytest, ypred)))\n",
    "print ('R2:', metrics.r2_score(ytest, ypred))"
   ]
  },
  {
   "cell_type": "code",
   "execution_count": 51,
   "metadata": {},
   "outputs": [
    {
     "data": {
      "image/png": "[encoded data removed]",
      "text/plain": [
       "<Figure size 432x288 with 1 Axes>"
      ]
     },
     "metadata": {
      "needs_background": "light"
     },
     "output_type": "display_data"
    },
    {
     "name": "stdout",
     "output_type": "stream",
     "text": [
      "MSE: 4468463849.295587\n",
      "                                           0\n",
      "lat                            -6.143578e+05\n",
      "lon                            -9.611421e+04\n",
      "surface_total_in_m2             1.353691e+03\n",
      "dummy_property_type__apartment  4.224464e+04\n",
      "dummy_property_type__house      1.748774e+04\n",
      "dummy_property_type__store     -2.255955e+04\n",
      "distSubte                       7.127158e+03\n",
      "dummy_pileta                    5.454664e+02\n",
      "dummy_balcon                   -3.121382e+03\n",
      "dummy_patio                    -2.134501e+03\n",
      "dummy_lavadero                  1.142927e+04\n",
      "dummy_cochera                   3.042958e+04\n",
      "dummy_luminoso                 -5.939440e+03\n",
      "dummy_terraza                   7.482735e+03\n",
      "dummy_quincho                   8.358093e+03\n",
      "dummy_baulera                   6.809387e+03\n",
      "dummy_parrilla                 -4.113208e+03\n",
      "dummy_premium                   1.557941e+04\n",
      "dummy_piscina                   2.325467e+04\n",
      "dummy_ascensor                 -1.635579e+04\n",
      "dummy_profesional              -2.715474e+04\n",
      "dummy_alarma                    3.018962e+04\n",
      "dummy_amenities                 1.074976e+04\n",
      "dummy_calefaccion               9.692877e+03\n",
      "dummy_pozo                     -1.644750e+04\n",
      "dummy_gimnasio                 -4.643531e+03\n",
      "dummy_aire acondicionado        1.364793e+04\n",
      "dummy_spa                       1.728506e+04\n",
      "dummy_jacuzzi                  -4.200810e+04\n",
      "dummy_cine                      3.426736e+02\n",
      "Intecept                       -2.686597e+07\n",
      "R2                              6.809087e-01\n"
     ]
    }
   ],
   "source": [
    "def sum_mod(model, Xa):\n",
    "    a = pd.DataFrame(model.coef_ , Xa.columns.values)\n",
    "    a = a.append(pd.DataFrame([model.intercept_, model.score(Xa, ya)], index=['Intecept','R2']))\n",
    "    return(a)\n",
    "\n",
    "lm = linear_model.LinearRegression()\n",
    "Xa = df_no_expenses_X\n",
    "ya = df_no_expenses_Y['price_aprox_usd']\n",
    "model = lm.fit(Xa, ya)\n",
    "predictions = model.predict(Xa)\n",
    "\n",
    "# Plot the model\n",
    "plt.plot(ya,ya, '-.',c='grey')\n",
    "plt.scatter(predictions, ya, s=30, c='r', marker='+', zorder=10)\n",
    "plt.xlabel(\"Predicted Values from all values\")\n",
    "plt.ylabel(\"Actual Values\")\n",
    "plt.show()\n",
    "print (\"MSE:\", mean_squared_error(ya, predictions))\n",
    "print (sum_mod(model, Xa))"
   ]
  }
 ],
 "metadata": {
  "kernelspec": {
   "display_name": "Python 3",
   "language": "python",
   "name": "python3"
  },
  "language_info": {
   "codemirror_mode": {
    "name": "ipython",
    "version": 3
   },
   "file_extension": ".py",
   "mimetype": "text/x-python",
   "name": "python",
   "nbconvert_exporter": "python",
   "pygments_lexer": "ipython3",
   "version": "3.7.1"
  }
 },
 "nbformat": 4,
 "nbformat_minor": 2
}
