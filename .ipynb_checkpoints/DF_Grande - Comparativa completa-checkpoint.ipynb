{
 "cells": [
  {
   "cell_type": "code",
   "execution_count": 13,
   "metadata": {
    "collapsed": true
   },
   "outputs": [],
   "source": [
    "% matplotlib inline\n",
    "\n",
    "from matplotlib import pyplot as plt\n",
    "plt.rcParams['figure.figsize'] = 10, 10\n",
    "\n",
    "import numpy as np\n",
    "import pandas as pd\n",
    "from scipy import stats\n",
    "import seaborn as sns\n",
    "from sklearn import datasets\n",
    "from sklearn.model_selection import train_test_split, KFold, cross_val_score\n",
    "from sklearn.linear_model import LinearRegression, Lasso, LassoCV, Ridge, RidgeCV\n",
    "from sklearn.preprocessing import PolynomialFeatures, StandardScaler\n",
    "from sklearn.metrics import mean_squared_error, r2_score"
   ]
  },
  {
   "cell_type": "code",
   "execution_count": 14,
   "metadata": {
    "scrolled": true
   },
   "outputs": [],
   "source": [
    "df = pd.read_csv('properati_caballito_train.csv')\n",
    "cols = ['Unnamed: 0', 'Unnamed: 0.1','place_name', 'precio_m2_usd', 'expenses', 'description', 'title', 'property_type']\n",
    "df.drop(cols, axis=1, inplace=True)"
   ]
  },
  {
   "cell_type": "code",
   "execution_count": 15,
   "metadata": {},
   "outputs": [
    {
     "name": "stdout",
     "output_type": "stream",
     "text": [
      "Index(['lat', 'lon', 'price_aprox_usd', 'surface_total_in_m2',\n",
      "       'price_usd_per_m2', 'dummy_property_type__apartment',\n",
      "       'dummy_property_type__house', 'dummy_property_type__store', 'distSubte',\n",
      "       'distParque', 'dummy_pileta', 'dummy_balcon', 'dummy_patio',\n",
      "       'dummy_lavadero', 'dummy_cochera', 'dummy_luminoso', 'dummy_terraza',\n",
      "       'dummy_quincho', 'dummy_baulera', 'dummy_parrilla', 'dummy_premium',\n",
      "       'dummy_piscina', 'dummy_ascensor', 'dummy_profesional', 'dummy_alarma',\n",
      "       'dummy_amenities', 'dummy_calefaccion', 'dummy_pozo', 'dummy_gimnasio',\n",
      "       'dummy_aire acondicionado', 'dummy_spa', 'dummy_jacuzzi', 'dummy_cine'],\n",
      "      dtype='object')\n",
      "(1410, 33)\n"
     ]
    },
    {
     "data": {
      "text/html": [
       "<div>\n",
       "<style scoped>\n",
       "    .dataframe tbody tr th:only-of-type {\n",
       "        vertical-align: middle;\n",
       "    }\n",
       "\n",
       "    .dataframe tbody tr th {\n",
       "        vertical-align: top;\n",
       "    }\n",
       "\n",
       "    .dataframe thead th {\n",
       "        text-align: right;\n",
       "    }\n",
       "</style>\n",
       "<table border=\"1\" class=\"dataframe\">\n",
       "  <thead>\n",
       "    <tr style=\"text-align: right;\">\n",
       "      <th></th>\n",
       "      <th>lat</th>\n",
       "      <th>lon</th>\n",
       "      <th>price_aprox_usd</th>\n",
       "      <th>surface_total_in_m2</th>\n",
       "      <th>price_usd_per_m2</th>\n",
       "      <th>dummy_property_type__apartment</th>\n",
       "      <th>dummy_property_type__house</th>\n",
       "      <th>dummy_property_type__store</th>\n",
       "      <th>distSubte</th>\n",
       "      <th>distParque</th>\n",
       "      <th>...</th>\n",
       "      <th>dummy_profesional</th>\n",
       "      <th>dummy_alarma</th>\n",
       "      <th>dummy_amenities</th>\n",
       "      <th>dummy_calefaccion</th>\n",
       "      <th>dummy_pozo</th>\n",
       "      <th>dummy_gimnasio</th>\n",
       "      <th>dummy_aire acondicionado</th>\n",
       "      <th>dummy_spa</th>\n",
       "      <th>dummy_jacuzzi</th>\n",
       "      <th>dummy_cine</th>\n",
       "    </tr>\n",
       "  </thead>\n",
       "  <tbody>\n",
       "    <tr>\n",
       "      <th>0</th>\n",
       "      <td>-34.622211</td>\n",
       "      <td>-58.439128</td>\n",
       "      <td>110000</td>\n",
       "      <td>50</td>\n",
       "      <td>2200.000000</td>\n",
       "      <td>1</td>\n",
       "      <td>0</td>\n",
       "      <td>0</td>\n",
       "      <td>0.274837</td>\n",
       "      <td>0.257798</td>\n",
       "      <td>...</td>\n",
       "      <td>0</td>\n",
       "      <td>0</td>\n",
       "      <td>0</td>\n",
       "      <td>0</td>\n",
       "      <td>0</td>\n",
       "      <td>0</td>\n",
       "      <td>0</td>\n",
       "      <td>0</td>\n",
       "      <td>0</td>\n",
       "      <td>0</td>\n",
       "    </tr>\n",
       "    <tr>\n",
       "      <th>1</th>\n",
       "      <td>-34.623894</td>\n",
       "      <td>-58.446861</td>\n",
       "      <td>170500</td>\n",
       "      <td>100</td>\n",
       "      <td>1705.000000</td>\n",
       "      <td>1</td>\n",
       "      <td>0</td>\n",
       "      <td>0</td>\n",
       "      <td>0.168539</td>\n",
       "      <td>0.471023</td>\n",
       "      <td>...</td>\n",
       "      <td>0</td>\n",
       "      <td>0</td>\n",
       "      <td>0</td>\n",
       "      <td>0</td>\n",
       "      <td>0</td>\n",
       "      <td>0</td>\n",
       "      <td>0</td>\n",
       "      <td>0</td>\n",
       "      <td>0</td>\n",
       "      <td>0</td>\n",
       "    </tr>\n",
       "    <tr>\n",
       "      <th>2</th>\n",
       "      <td>-34.620928</td>\n",
       "      <td>-58.445874</td>\n",
       "      <td>220410</td>\n",
       "      <td>81</td>\n",
       "      <td>2721.111111</td>\n",
       "      <td>1</td>\n",
       "      <td>0</td>\n",
       "      <td>0</td>\n",
       "      <td>0.384946</td>\n",
       "      <td>0.137809</td>\n",
       "      <td>...</td>\n",
       "      <td>0</td>\n",
       "      <td>0</td>\n",
       "      <td>1</td>\n",
       "      <td>0</td>\n",
       "      <td>0</td>\n",
       "      <td>0</td>\n",
       "      <td>0</td>\n",
       "      <td>0</td>\n",
       "      <td>0</td>\n",
       "      <td>0</td>\n",
       "    </tr>\n",
       "    <tr>\n",
       "      <th>3</th>\n",
       "      <td>-34.620928</td>\n",
       "      <td>-58.445874</td>\n",
       "      <td>222780</td>\n",
       "      <td>81</td>\n",
       "      <td>2750.370370</td>\n",
       "      <td>1</td>\n",
       "      <td>0</td>\n",
       "      <td>0</td>\n",
       "      <td>0.384946</td>\n",
       "      <td>0.137809</td>\n",
       "      <td>...</td>\n",
       "      <td>0</td>\n",
       "      <td>0</td>\n",
       "      <td>1</td>\n",
       "      <td>0</td>\n",
       "      <td>0</td>\n",
       "      <td>0</td>\n",
       "      <td>0</td>\n",
       "      <td>0</td>\n",
       "      <td>0</td>\n",
       "      <td>0</td>\n",
       "    </tr>\n",
       "    <tr>\n",
       "      <th>4</th>\n",
       "      <td>-34.628786</td>\n",
       "      <td>-58.427783</td>\n",
       "      <td>108000</td>\n",
       "      <td>70</td>\n",
       "      <td>1542.857143</td>\n",
       "      <td>1</td>\n",
       "      <td>0</td>\n",
       "      <td>0</td>\n",
       "      <td>0.216992</td>\n",
       "      <td>1.185256</td>\n",
       "      <td>...</td>\n",
       "      <td>0</td>\n",
       "      <td>0</td>\n",
       "      <td>0</td>\n",
       "      <td>0</td>\n",
       "      <td>0</td>\n",
       "      <td>0</td>\n",
       "      <td>0</td>\n",
       "      <td>0</td>\n",
       "      <td>0</td>\n",
       "      <td>0</td>\n",
       "    </tr>\n",
       "  </tbody>\n",
       "</table>\n",
       "<p>5 rows × 33 columns</p>\n",
       "</div>"
      ],
      "text/plain": [
       "         lat        lon  price_aprox_usd  surface_total_in_m2  \\\n",
       "0 -34.622211 -58.439128           110000                   50   \n",
       "1 -34.623894 -58.446861           170500                  100   \n",
       "2 -34.620928 -58.445874           220410                   81   \n",
       "3 -34.620928 -58.445874           222780                   81   \n",
       "4 -34.628786 -58.427783           108000                   70   \n",
       "\n",
       "   price_usd_per_m2  dummy_property_type__apartment  \\\n",
       "0       2200.000000                               1   \n",
       "1       1705.000000                               1   \n",
       "2       2721.111111                               1   \n",
       "3       2750.370370                               1   \n",
       "4       1542.857143                               1   \n",
       "\n",
       "   dummy_property_type__house  dummy_property_type__store  distSubte  \\\n",
       "0                           0                           0   0.274837   \n",
       "1                           0                           0   0.168539   \n",
       "2                           0                           0   0.384946   \n",
       "3                           0                           0   0.384946   \n",
       "4                           0                           0   0.216992   \n",
       "\n",
       "   distParque     ...      dummy_profesional  dummy_alarma  dummy_amenities  \\\n",
       "0    0.257798     ...                      0             0                0   \n",
       "1    0.471023     ...                      0             0                0   \n",
       "2    0.137809     ...                      0             0                1   \n",
       "3    0.137809     ...                      0             0                1   \n",
       "4    1.185256     ...                      0             0                0   \n",
       "\n",
       "   dummy_calefaccion  dummy_pozo  dummy_gimnasio  dummy_aire acondicionado  \\\n",
       "0                  0           0               0                         0   \n",
       "1                  0           0               0                         0   \n",
       "2                  0           0               0                         0   \n",
       "3                  0           0               0                         0   \n",
       "4                  0           0               0                         0   \n",
       "\n",
       "   dummy_spa  dummy_jacuzzi  dummy_cine  \n",
       "0          0              0           0  \n",
       "1          0              0           0  \n",
       "2          0              0           0  \n",
       "3          0              0           0  \n",
       "4          0              0           0  \n",
       "\n",
       "[5 rows x 33 columns]"
      ]
     },
     "execution_count": 15,
     "metadata": {},
     "output_type": "execute_result"
    }
   ],
   "source": [
    "# DF\n",
    "df = df.dropna()\n",
    "print(df.columns) \n",
    "print(df.shape)\n",
    "df.head(5)"
   ]
  },
  {
   "cell_type": "code",
   "execution_count": 16,
   "metadata": {},
   "outputs": [],
   "source": [
    "dfX = df[['lat', 'lon', 'surface_total_in_m2', 'dummy_property_type__apartment',\n",
    "       'dummy_property_type__house', 'dummy_property_type__store', 'distSubte',\n",
    "       'distParque', 'dummy_pileta', 'dummy_balcon', 'dummy_patio',\n",
    "       'dummy_lavadero', 'dummy_cochera', 'dummy_luminoso', 'dummy_terraza',\n",
    "       'dummy_quincho', 'dummy_baulera', 'dummy_parrilla', 'dummy_premium',\n",
    "       'dummy_piscina', 'dummy_ascensor', 'dummy_profesional', 'dummy_alarma',\n",
    "       'dummy_amenities', 'dummy_calefaccion', 'dummy_pozo', 'dummy_gimnasio',\n",
    "       'dummy_aire acondicionado', 'dummy_spa', 'dummy_jacuzzi', 'dummy_cine']]"
   ]
  },
  {
   "cell_type": "code",
   "execution_count": 17,
   "metadata": {},
   "outputs": [],
   "source": [
    "y = df['price_usd_per_m2']"
   ]
  },
  {
   "cell_type": "code",
   "execution_count": 18,
   "metadata": {},
   "outputs": [],
   "source": [
    "X = StandardScaler().fit_transform(dfX)"
   ]
  },
  {
   "cell_type": "code",
   "execution_count": 19,
   "metadata": {},
   "outputs": [
    {
     "name": "stdout",
     "output_type": "stream",
     "text": [
      "(987, 31) (987,)\n",
      "(423, 31) (423,)\n"
     ]
    }
   ],
   "source": [
    "X_train, X_test, y_train, y_test = train_test_split(X, y, test_size=0.3, random_state=53)\n",
    "print(X_train.shape, y_train.shape)\n",
    "print(X_test.shape, y_test.shape)"
   ]
  },
  {
   "cell_type": "code",
   "execution_count": 20,
   "metadata": {},
   "outputs": [],
   "source": [
    "# Generamos un grid de $\\alpha$ para probar e instanciamos un particionador del Training Set \n",
    "# en K partes para realizar la validación cruzada\n",
    "\n",
    "al_ridge = np.linspace(0.001, 2, 300)\n",
    "al_lasso = np.linspace(0.001, 2, 300)\n",
    "kf = KFold(n_splits=5, shuffle=True, random_state=12)\n",
    "\n",
    "# Instanciamos los modelos\n",
    "\n",
    "lm = LinearRegression()\n",
    "lmRidgeCV = RidgeCV(alphas=[0.1], cv=kf, normalize=False)\n",
    "lmLassoCV = LassoCV(alphas=al_lasso, cv=kf, normalize=False)"
   ]
  },
  {
   "cell_type": "code",
   "execution_count": 9,
   "metadata": {},
   "outputs": [],
   "source": [
    "#lmRidgeCV = RidgeCV(fit_intercept=False, alphas=[0.1], cv=kf, normalize=False)"
   ]
  },
  {
   "cell_type": "code",
   "execution_count": 21,
   "metadata": {},
   "outputs": [
    {
     "data": {
      "text/plain": [
       "LassoCV(alphas=array([1.00000e-03, 7.68562e-03, ..., 1.99331e+00, 2.00000e+00]),\n",
       "    copy_X=True, cv=KFold(n_splits=5, random_state=12, shuffle=True),\n",
       "    eps=0.001, fit_intercept=True, max_iter=1000, n_alphas=100, n_jobs=1,\n",
       "    normalize=False, positive=False, precompute='auto', random_state=None,\n",
       "    selection='cyclic', tol=0.0001, verbose=False)"
      ]
     },
     "execution_count": 21,
     "metadata": {},
     "output_type": "execute_result"
    }
   ],
   "source": [
    "# Hacemos los fits respectivos\n",
    "\n",
    "lm.fit(X_train, y_train)\n",
    "lmRidgeCV.fit(X_train, y_train)\n",
    "lmLassoCV.fit(X_train, y_train)"
   ]
  },
  {
   "cell_type": "code",
   "execution_count": 22,
   "metadata": {
    "scrolled": true
   },
   "outputs": [
    {
     "name": "stdout",
     "output_type": "stream",
     "text": [
      "Alpha Ridge: 0.1 \n",
      "Alpha LASSO: 2.0 \n",
      "\n"
     ]
    }
   ],
   "source": [
    "print('Alpha Ridge:',lmRidgeCV.alpha_,'\\n'\n",
    "      'Alpha LASSO:',lmLassoCV.alpha_,'\\n')"
   ]
  },
  {
   "cell_type": "code",
   "execution_count": 23,
   "metadata": {},
   "outputs": [
    {
     "name": "stdout",
     "output_type": "stream",
     "text": [
      "Score Train Lineal: 0.11577989307396487 \n",
      "Score Train Ridge: 0.1157798426901787 \n",
      "Score Train Lasso: 0.11551583266697651\n",
      "Train MSE lineal= 1564594.25235679 \n",
      "Train MSE Ridge= 1564594.3415090065 \n",
      "Train MSE Lasso= 1565061.497324206\n"
     ]
    }
   ],
   "source": [
    "# Calculamos el R2\n",
    "\n",
    "print(\"Score Train Lineal:\", lm.score(X_train, y_train),\"\\n\"\n",
    "      \"Score Train Ridge:\",  lmRidgeCV.score(X_train, y_train),\"\\n\"\n",
    "      \"Score Train Lasso:\",  lmLassoCV.score(X_train, y_train))\n",
    "\n",
    "# Calculamos el MSE\n",
    "\n",
    "lmpred_Tr = lm.predict(X_train)\n",
    "lmRidgepred_Tr = lmRidgeCV.predict(X_train)\n",
    "lmLassoepred_Tr = lmLassoCV.predict(X_train)\n",
    "\n",
    "print(\"Train MSE lineal=\", mean_squared_error(y_train,lmpred_Tr), \"\\n\"\n",
    "      \"Train MSE Ridge=\",  mean_squared_error(y_train,lmRidgepred_Tr), \"\\n\"\n",
    "      \"Train MSE Lasso=\",  mean_squared_error(y_train,lmLassoepred_Tr))"
   ]
  }
 ],
 "metadata": {
  "kernelspec": {
   "display_name": "Python 3",
   "language": "python",
   "name": "python3"
  },
  "language_info": {
   "codemirror_mode": {
    "name": "ipython",
    "version": 3
   },
   "file_extension": ".py",
   "mimetype": "text/x-python",
   "name": "python",
   "nbconvert_exporter": "python",
   "pygments_lexer": "ipython3",
   "version": "3.7.3"
  }
 },
 "nbformat": 4,
 "nbformat_minor": 2
}
