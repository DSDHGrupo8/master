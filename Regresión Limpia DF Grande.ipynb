{
 "cells": [
  {
   "cell_type": "code",
   "execution_count": 1,
   "metadata": {},
   "outputs": [],
   "source": [
    "%matplotlib inline\n",
    "\n",
    "import pandas as pd\n",
    "import numpy as np\n",
    "import matplotlib.pyplot as plt\n",
    "from statistics import mode \n",
    "from matplotlib import cm as cm\n",
    "from sklearn import svm\n",
    "import seaborn as sns\n",
    "from sklearn import datasets, linear_model\n",
    "from sklearn.metrics import mean_squared_error, r2_score\n",
    "from sklearn.model_selection import train_test_split\n",
    "pd.set_option('display.max_columns', 500)"
   ]
  },
  {
   "cell_type": "code",
   "execution_count": 14,
   "metadata": {},
   "outputs": [],
   "source": [
    "df = pd.read_csv('properati_caballito_train.csv')\n",
    "cols = ['Unnamed: 0', 'Unnamed: 0.1','place_name', 'precio_m2_usd', 'expenses', 'description', 'title', 'property_type']\n",
    "df.drop(cols, axis=1, inplace=True)"
   ]
  },
  {
   "cell_type": "code",
   "execution_count": 25,
   "metadata": {},
   "outputs": [
    {
     "name": "stdout",
     "output_type": "stream",
     "text": [
      "Index(['lat', 'lon', 'price_aprox_usd', 'surface_total_in_m2',\n",
      "       'price_usd_per_m2', 'dummy_property_type__apartment',\n",
      "       'dummy_property_type__house', 'dummy_property_type__store', 'distSubte',\n",
      "       'distParque', 'dummy_pileta', 'dummy_balcon', 'dummy_patio',\n",
      "       'dummy_lavadero', 'dummy_cochera', 'dummy_luminoso', 'dummy_terraza',\n",
      "       'dummy_quincho', 'dummy_baulera', 'dummy_parrilla', 'dummy_premium',\n",
      "       'dummy_piscina', 'dummy_ascensor', 'dummy_profesional', 'dummy_alarma',\n",
      "       'dummy_amenities', 'dummy_calefaccion', 'dummy_pozo', 'dummy_gimnasio',\n",
      "       'dummy_aire acondicionado', 'dummy_spa', 'dummy_jacuzzi', 'dummy_cine'],\n",
      "      dtype='object')\n",
      "(1410, 33)\n"
     ]
    },
    {
     "data": {
      "text/html": [
       "<div>\n",
       "<style scoped>\n",
       "    .dataframe tbody tr th:only-of-type {\n",
       "        vertical-align: middle;\n",
       "    }\n",
       "\n",
       "    .dataframe tbody tr th {\n",
       "        vertical-align: top;\n",
       "    }\n",
       "\n",
       "    .dataframe thead th {\n",
       "        text-align: right;\n",
       "    }\n",
       "</style>\n",
       "<table border=\"1\" class=\"dataframe\">\n",
       "  <thead>\n",
       "    <tr style=\"text-align: right;\">\n",
       "      <th></th>\n",
       "      <th>lat</th>\n",
       "      <th>lon</th>\n",
       "      <th>price_aprox_usd</th>\n",
       "      <th>surface_total_in_m2</th>\n",
       "      <th>price_usd_per_m2</th>\n",
       "      <th>dummy_property_type__apartment</th>\n",
       "      <th>dummy_property_type__house</th>\n",
       "      <th>dummy_property_type__store</th>\n",
       "      <th>distSubte</th>\n",
       "      <th>distParque</th>\n",
       "      <th>dummy_pileta</th>\n",
       "      <th>dummy_balcon</th>\n",
       "      <th>dummy_patio</th>\n",
       "      <th>dummy_lavadero</th>\n",
       "      <th>dummy_cochera</th>\n",
       "      <th>dummy_luminoso</th>\n",
       "      <th>dummy_terraza</th>\n",
       "      <th>dummy_quincho</th>\n",
       "      <th>dummy_baulera</th>\n",
       "      <th>dummy_parrilla</th>\n",
       "      <th>dummy_premium</th>\n",
       "      <th>dummy_piscina</th>\n",
       "      <th>dummy_ascensor</th>\n",
       "      <th>dummy_profesional</th>\n",
       "      <th>dummy_alarma</th>\n",
       "      <th>dummy_amenities</th>\n",
       "      <th>dummy_calefaccion</th>\n",
       "      <th>dummy_pozo</th>\n",
       "      <th>dummy_gimnasio</th>\n",
       "      <th>dummy_aire acondicionado</th>\n",
       "      <th>dummy_spa</th>\n",
       "      <th>dummy_jacuzzi</th>\n",
       "      <th>dummy_cine</th>\n",
       "    </tr>\n",
       "  </thead>\n",
       "  <tbody>\n",
       "    <tr>\n",
       "      <th>0</th>\n",
       "      <td>-34.622211</td>\n",
       "      <td>-58.439128</td>\n",
       "      <td>110000</td>\n",
       "      <td>50</td>\n",
       "      <td>2200.000000</td>\n",
       "      <td>1</td>\n",
       "      <td>0</td>\n",
       "      <td>0</td>\n",
       "      <td>0.274837</td>\n",
       "      <td>0.257798</td>\n",
       "      <td>0</td>\n",
       "      <td>0</td>\n",
       "      <td>0</td>\n",
       "      <td>0</td>\n",
       "      <td>0</td>\n",
       "      <td>0</td>\n",
       "      <td>0</td>\n",
       "      <td>0</td>\n",
       "      <td>0</td>\n",
       "      <td>0</td>\n",
       "      <td>0</td>\n",
       "      <td>0</td>\n",
       "      <td>0</td>\n",
       "      <td>0</td>\n",
       "      <td>0</td>\n",
       "      <td>0</td>\n",
       "      <td>0</td>\n",
       "      <td>0</td>\n",
       "      <td>0</td>\n",
       "      <td>0</td>\n",
       "      <td>0</td>\n",
       "      <td>0</td>\n",
       "      <td>0</td>\n",
       "    </tr>\n",
       "    <tr>\n",
       "      <th>1</th>\n",
       "      <td>-34.623894</td>\n",
       "      <td>-58.446861</td>\n",
       "      <td>170500</td>\n",
       "      <td>100</td>\n",
       "      <td>1705.000000</td>\n",
       "      <td>1</td>\n",
       "      <td>0</td>\n",
       "      <td>0</td>\n",
       "      <td>0.168539</td>\n",
       "      <td>0.471023</td>\n",
       "      <td>0</td>\n",
       "      <td>0</td>\n",
       "      <td>0</td>\n",
       "      <td>0</td>\n",
       "      <td>0</td>\n",
       "      <td>0</td>\n",
       "      <td>0</td>\n",
       "      <td>0</td>\n",
       "      <td>0</td>\n",
       "      <td>0</td>\n",
       "      <td>0</td>\n",
       "      <td>0</td>\n",
       "      <td>0</td>\n",
       "      <td>0</td>\n",
       "      <td>0</td>\n",
       "      <td>0</td>\n",
       "      <td>0</td>\n",
       "      <td>0</td>\n",
       "      <td>0</td>\n",
       "      <td>0</td>\n",
       "      <td>0</td>\n",
       "      <td>0</td>\n",
       "      <td>0</td>\n",
       "    </tr>\n",
       "    <tr>\n",
       "      <th>2</th>\n",
       "      <td>-34.620928</td>\n",
       "      <td>-58.445874</td>\n",
       "      <td>220410</td>\n",
       "      <td>81</td>\n",
       "      <td>2721.111111</td>\n",
       "      <td>1</td>\n",
       "      <td>0</td>\n",
       "      <td>0</td>\n",
       "      <td>0.384946</td>\n",
       "      <td>0.137809</td>\n",
       "      <td>0</td>\n",
       "      <td>0</td>\n",
       "      <td>0</td>\n",
       "      <td>0</td>\n",
       "      <td>0</td>\n",
       "      <td>0</td>\n",
       "      <td>0</td>\n",
       "      <td>0</td>\n",
       "      <td>1</td>\n",
       "      <td>0</td>\n",
       "      <td>0</td>\n",
       "      <td>0</td>\n",
       "      <td>0</td>\n",
       "      <td>0</td>\n",
       "      <td>0</td>\n",
       "      <td>1</td>\n",
       "      <td>0</td>\n",
       "      <td>0</td>\n",
       "      <td>0</td>\n",
       "      <td>0</td>\n",
       "      <td>0</td>\n",
       "      <td>0</td>\n",
       "      <td>0</td>\n",
       "    </tr>\n",
       "    <tr>\n",
       "      <th>3</th>\n",
       "      <td>-34.620928</td>\n",
       "      <td>-58.445874</td>\n",
       "      <td>222780</td>\n",
       "      <td>81</td>\n",
       "      <td>2750.370370</td>\n",
       "      <td>1</td>\n",
       "      <td>0</td>\n",
       "      <td>0</td>\n",
       "      <td>0.384946</td>\n",
       "      <td>0.137809</td>\n",
       "      <td>0</td>\n",
       "      <td>0</td>\n",
       "      <td>0</td>\n",
       "      <td>0</td>\n",
       "      <td>0</td>\n",
       "      <td>0</td>\n",
       "      <td>0</td>\n",
       "      <td>0</td>\n",
       "      <td>1</td>\n",
       "      <td>0</td>\n",
       "      <td>0</td>\n",
       "      <td>0</td>\n",
       "      <td>0</td>\n",
       "      <td>0</td>\n",
       "      <td>0</td>\n",
       "      <td>1</td>\n",
       "      <td>0</td>\n",
       "      <td>0</td>\n",
       "      <td>0</td>\n",
       "      <td>0</td>\n",
       "      <td>0</td>\n",
       "      <td>0</td>\n",
       "      <td>0</td>\n",
       "    </tr>\n",
       "    <tr>\n",
       "      <th>4</th>\n",
       "      <td>-34.628786</td>\n",
       "      <td>-58.427783</td>\n",
       "      <td>108000</td>\n",
       "      <td>70</td>\n",
       "      <td>1542.857143</td>\n",
       "      <td>1</td>\n",
       "      <td>0</td>\n",
       "      <td>0</td>\n",
       "      <td>0.216992</td>\n",
       "      <td>1.185256</td>\n",
       "      <td>0</td>\n",
       "      <td>1</td>\n",
       "      <td>0</td>\n",
       "      <td>1</td>\n",
       "      <td>0</td>\n",
       "      <td>1</td>\n",
       "      <td>0</td>\n",
       "      <td>0</td>\n",
       "      <td>0</td>\n",
       "      <td>0</td>\n",
       "      <td>0</td>\n",
       "      <td>0</td>\n",
       "      <td>0</td>\n",
       "      <td>0</td>\n",
       "      <td>0</td>\n",
       "      <td>0</td>\n",
       "      <td>0</td>\n",
       "      <td>0</td>\n",
       "      <td>0</td>\n",
       "      <td>0</td>\n",
       "      <td>0</td>\n",
       "      <td>0</td>\n",
       "      <td>0</td>\n",
       "    </tr>\n",
       "  </tbody>\n",
       "</table>\n",
       "</div>"
      ],
      "text/plain": [
       "         lat        lon  price_aprox_usd  surface_total_in_m2  \\\n",
       "0 -34.622211 -58.439128           110000                   50   \n",
       "1 -34.623894 -58.446861           170500                  100   \n",
       "2 -34.620928 -58.445874           220410                   81   \n",
       "3 -34.620928 -58.445874           222780                   81   \n",
       "4 -34.628786 -58.427783           108000                   70   \n",
       "\n",
       "   price_usd_per_m2  dummy_property_type__apartment  \\\n",
       "0       2200.000000                               1   \n",
       "1       1705.000000                               1   \n",
       "2       2721.111111                               1   \n",
       "3       2750.370370                               1   \n",
       "4       1542.857143                               1   \n",
       "\n",
       "   dummy_property_type__house  dummy_property_type__store  distSubte  \\\n",
       "0                           0                           0   0.274837   \n",
       "1                           0                           0   0.168539   \n",
       "2                           0                           0   0.384946   \n",
       "3                           0                           0   0.384946   \n",
       "4                           0                           0   0.216992   \n",
       "\n",
       "   distParque  dummy_pileta  dummy_balcon  dummy_patio  dummy_lavadero  \\\n",
       "0    0.257798             0             0            0               0   \n",
       "1    0.471023             0             0            0               0   \n",
       "2    0.137809             0             0            0               0   \n",
       "3    0.137809             0             0            0               0   \n",
       "4    1.185256             0             1            0               1   \n",
       "\n",
       "   dummy_cochera  dummy_luminoso  dummy_terraza  dummy_quincho  dummy_baulera  \\\n",
       "0              0               0              0              0              0   \n",
       "1              0               0              0              0              0   \n",
       "2              0               0              0              0              1   \n",
       "3              0               0              0              0              1   \n",
       "4              0               1              0              0              0   \n",
       "\n",
       "   dummy_parrilla  dummy_premium  dummy_piscina  dummy_ascensor  \\\n",
       "0               0              0              0               0   \n",
       "1               0              0              0               0   \n",
       "2               0              0              0               0   \n",
       "3               0              0              0               0   \n",
       "4               0              0              0               0   \n",
       "\n",
       "   dummy_profesional  dummy_alarma  dummy_amenities  dummy_calefaccion  \\\n",
       "0                  0             0                0                  0   \n",
       "1                  0             0                0                  0   \n",
       "2                  0             0                1                  0   \n",
       "3                  0             0                1                  0   \n",
       "4                  0             0                0                  0   \n",
       "\n",
       "   dummy_pozo  dummy_gimnasio  dummy_aire acondicionado  dummy_spa  \\\n",
       "0           0               0                         0          0   \n",
       "1           0               0                         0          0   \n",
       "2           0               0                         0          0   \n",
       "3           0               0                         0          0   \n",
       "4           0               0                         0          0   \n",
       "\n",
       "   dummy_jacuzzi  dummy_cine  \n",
       "0              0           0  \n",
       "1              0           0  \n",
       "2              0           0  \n",
       "3              0           0  \n",
       "4              0           0  "
      ]
     },
     "execution_count": 25,
     "metadata": {},
     "output_type": "execute_result"
    }
   ],
   "source": [
    "# DF\n",
    "df = df.dropna()\n",
    "print(df.columns) \n",
    "print(df.shape)\n",
    "df.head(5)"
   ]
  },
  {
   "cell_type": "code",
   "execution_count": 26,
   "metadata": {},
   "outputs": [],
   "source": [
    "#GRAFICO DE CORRELACIÓN\n",
    "#k = 33\n",
    "#cols = df.corr().nlargest(k,'price_usd_per_m2')['price_usd_per_m2'].index\n",
    "#cm = df[cols].corr()\n",
    "#plt.figure(figsize=(20,15))\n",
    "#sns.heatmap(cm, annot=True, cmap = 'OrRd');"
   ]
  },
  {
   "cell_type": "code",
   "execution_count": 37,
   "metadata": {},
   "outputs": [
    {
     "name": "stdout",
     "output_type": "stream",
     "text": [
      "(1410, 31)\n",
      "(1410,)\n"
     ]
    }
   ],
   "source": [
    "dfX = df[['lat', 'lon', 'surface_total_in_m2', 'dummy_property_type__apartment',\n",
    "       'dummy_property_type__house', 'dummy_property_type__store', 'distSubte',\n",
    "       'distParque', 'dummy_pileta', 'dummy_balcon', 'dummy_patio',\n",
    "       'dummy_lavadero', 'dummy_cochera', 'dummy_luminoso', 'dummy_terraza',\n",
    "       'dummy_quincho', 'dummy_baulera', 'dummy_parrilla', 'dummy_premium',\n",
    "       'dummy_piscina', 'dummy_ascensor', 'dummy_profesional', 'dummy_alarma',\n",
    "       'dummy_amenities', 'dummy_calefaccion', 'dummy_pozo', 'dummy_gimnasio',\n",
    "       'dummy_aire acondicionado', 'dummy_spa', 'dummy_jacuzzi', 'dummy_cine']]\n",
    "y = df['price_usd_per_m2']\n",
    "print(X.shape)\n",
    "print(y.shape)"
   ]
  },
  {
   "cell_type": "code",
   "execution_count": 39,
   "metadata": {},
   "outputs": [
    {
     "name": "stdout",
     "output_type": "stream",
     "text": [
      "[-3.29978685e+03  4.83560046e+03 -4.72653471e+00 -1.77538890e+02\n",
      "  7.07237812e+02 -5.74835498e+01 -1.65044201e+02  1.32994075e+02\n",
      " -1.40251161e+02 -7.57210530e+01 -1.42501239e+02 -1.11836065e+02\n",
      "  1.71644351e+02 -1.04243863e+02  8.37353104e+01 -1.81492894e+02\n",
      " -4.65316337e+01  2.02859246e+02  7.22828324e+01  3.89935027e+02\n",
      " -1.23284689e+02 -1.77044152e+02 -5.20946159e+02  1.53844423e+02\n",
      " -1.05170390e+01 -4.48060043e+02 -3.98547513e+01  2.19087025e+02\n",
      "  1.50498895e+02 -2.02015720e+02  3.81424132e+01]\n",
      "171315.53845291687\n"
     ]
    }
   ],
   "source": [
    "# Seleccionar modelo\n",
    "from sklearn.linear_model import LinearRegression\n",
    "# Elegir hiperparámetros\n",
    "model = LinearRegression(fit_intercept=True)\n",
    "\n",
    "# Split entrenamiento / testeo para CV\n",
    "from sklearn.model_selection import train_test_split\n",
    "Xtrain, Xtest, ytrain, ytest = train_test_split(dfX, y, random_state=1)\n",
    "#Ajustar el modelo a los datos\n",
    "model.fit(Xtrain, ytrain)\n",
    "print (model.coef_)\n",
    "print (model.intercept_)"
   ]
  },
  {
   "cell_type": "code",
   "execution_count": 40,
   "metadata": {},
   "outputs": [
    {
     "name": "stdout",
     "output_type": "stream",
     "text": [
      "MAE: 493.9791301153305\n",
      "MSE: 2473712.4894185453\n",
      "RMSE: 1572.8040213003478\n",
      "R2: -0.057027011939028815\n"
     ]
    }
   ],
   "source": [
    "ypred = model.predict(Xtest)\n",
    "from sklearn import metrics\n",
    "print ('MAE:', metrics.mean_absolute_error(ytest, ypred))\n",
    "print ('MSE:', metrics.mean_squared_error(ytest, ypred))\n",
    "print ('RMSE:', np.sqrt(metrics.mean_squared_error(ytest, ypred)))\n",
    "print ('R2:', metrics.r2_score(ytest, ypred))"
   ]
  },
  {
   "cell_type": "markdown",
   "metadata": {},
   "source": [
    "## REGULARIZAR antes de LASSO"
   ]
  },
  {
   "cell_type": "code",
   "execution_count": 41,
   "metadata": {},
   "outputs": [],
   "source": [
    "from sklearn.preprocessing import StandardScaler"
   ]
  },
  {
   "cell_type": "code",
   "execution_count": 42,
   "metadata": {},
   "outputs": [],
   "source": [
    "se = StandardScaler()"
   ]
  },
  {
   "cell_type": "code",
   "execution_count": 43,
   "metadata": {},
   "outputs": [],
   "source": [
    "df_random = dfX.sample(frac=1,random_state = 42)"
   ]
  },
  {
   "cell_type": "code",
   "execution_count": 44,
   "metadata": {},
   "outputs": [],
   "source": [
    "X_st = se.fit_transform(dfX)"
   ]
  },
  {
   "cell_type": "code",
   "execution_count": 45,
   "metadata": {
    "scrolled": true
   },
   "outputs": [
    {
     "data": {
      "text/plain": [
       "array([[-0.50112572,  0.30858086, -0.44986039,  0.31868872, -0.19762779,\n",
       "        -0.12877326, -0.52495536, -0.39009388, -0.17735767, -0.33986222,\n",
       "        -0.34115913, -0.4810832 , -0.47772691, -0.4368963 , -0.51546984,\n",
       "        -0.20525253, -0.34631843, -0.54730172, -0.059655  , -0.37026582,\n",
       "        -0.26420207, -0.44835493, -0.05333807, -0.36154351, -0.23027081,\n",
       "        -0.2319734 , -0.20147061, -0.30499714, -0.46084897, -0.21264684,\n",
       "        -0.24034234],\n",
       "       [-0.71371398, -0.2157631 ,  0.24385232,  0.31868872, -0.19762779,\n",
       "        -0.12877326, -0.64012667, -0.16229202, -0.17735767, -0.33986222,\n",
       "        -0.34115913, -0.4810832 , -0.47772691, -0.4368963 , -0.51546984,\n",
       "        -0.20525253, -0.34631843, -0.54730172, -0.059655  , -0.37026582,\n",
       "        -0.26420207, -0.44835493, -0.05333807, -0.36154351, -0.23027081,\n",
       "        -0.2319734 , -0.20147061, -0.30499714, -0.46084897, -0.21264684,\n",
       "        -0.24034234],\n",
       "       [-0.33904623, -0.14882937, -0.01975851,  0.31868872, -0.19762779,\n",
       "        -0.12877326, -0.40565494, -0.51828556, -0.17735767, -0.33986222,\n",
       "        -0.34115913, -0.4810832 , -0.47772691, -0.4368963 , -0.51546984,\n",
       "        -0.20525253,  2.88751595, -0.54730172, -0.059655  , -0.37026582,\n",
       "        -0.26420207, -0.44835493, -0.05333807,  2.76591879, -0.23027081,\n",
       "        -0.2319734 , -0.20147061, -0.30499714, -0.46084897, -0.21264684,\n",
       "        -0.24034234],\n",
       "       [-0.33904623, -0.14882937, -0.01975851,  0.31868872, -0.19762779,\n",
       "        -0.12877326, -0.40565494, -0.51828556, -0.17735767, -0.33986222,\n",
       "        -0.34115913, -0.4810832 , -0.47772691, -0.4368963 , -0.51546984,\n",
       "        -0.20525253,  2.88751595, -0.54730172, -0.059655  , -0.37026582,\n",
       "        -0.26420207, -0.44835493, -0.05333807,  2.76591879, -0.23027081,\n",
       "        -0.2319734 , -0.20147061, -0.30499714, -0.46084897, -0.21264684,\n",
       "        -0.24034234],\n",
       "       [-1.33159208,  1.07791134, -0.17237531,  0.31868872, -0.19762779,\n",
       "        -0.12877326, -0.58762906,  0.60076846, -0.17735767,  2.94236882,\n",
       "        -0.34115913,  2.07864252, -0.47772691,  2.28887266, -0.51546984,\n",
       "        -0.20525253, -0.34631843, -0.54730172, -0.059655  , -0.37026582,\n",
       "        -0.26420207, -0.44835493, -0.05333807, -0.36154351, -0.23027081,\n",
       "        -0.2319734 , -0.20147061, -0.30499714, -0.46084897, -0.21264684,\n",
       "        -0.24034234]])"
      ]
     },
     "execution_count": 45,
     "metadata": {},
     "output_type": "execute_result"
    }
   ],
   "source": [
    "X_st[0:5]"
   ]
  },
  {
   "cell_type": "code",
   "execution_count": 46,
   "metadata": {
    "scrolled": true
   },
   "outputs": [
    {
     "data": {
      "text/plain": [
       "array([1., 1., 1., 1., 1., 1., 1., 1., 1., 1., 1., 1., 1., 1., 1., 1., 1.,\n",
       "       1., 1., 1., 1., 1., 1., 1., 1., 1., 1., 1., 1., 1., 1.])"
      ]
     },
     "execution_count": 46,
     "metadata": {},
     "output_type": "execute_result"
    }
   ],
   "source": [
    "np.std(X_st,axis=0)"
   ]
  },
  {
   "cell_type": "markdown",
   "metadata": {},
   "source": [
    "## LASSO sobre DS sin expensas"
   ]
  },
  {
   "cell_type": "code",
   "execution_count": 48,
   "metadata": {
    "scrolled": true
   },
   "outputs": [
    {
     "data": {
      "text/plain": [
       "Lasso(alpha=1.0, copy_X=True, fit_intercept=True, max_iter=1000,\n",
       "   normalize=False, positive=False, precompute=False, random_state=None,\n",
       "   selection='cyclic', tol=0.0001, warm_start=False)"
      ]
     },
     "execution_count": 48,
     "metadata": {},
     "output_type": "execute_result"
    }
   ],
   "source": [
    "from sklearn.linear_model import Lasso\n",
    "from sklearn.model_selection import cross_val_score\n",
    "model = Lasso()\n",
    "model"
   ]
  },
  {
   "cell_type": "code",
   "execution_count": 49,
   "metadata": {},
   "outputs": [
    {
     "name": "stdout",
     "output_type": "stream",
     "text": [
      "[-0.0389617  -0.02796965 -0.14152384  0.05593133 -2.80197038]\n",
      "-0.5908988469311269\n",
      "1.1073110110244264\n"
     ]
    }
   ],
   "source": [
    "results = cross_val_score(model,X_st,y,cv=5)\n",
    "print(results)\n",
    "print(np.mean(results))\n",
    "print(np.std(results))"
   ]
  },
  {
   "cell_type": "code",
   "execution_count": 50,
   "metadata": {},
   "outputs": [
    {
     "data": {
      "text/plain": [
       "Lasso(alpha=1.0, copy_X=True, fit_intercept=True, max_iter=1000,\n",
       "   normalize=False, positive=False, precompute=False, random_state=None,\n",
       "   selection='cyclic', tol=0.0001, warm_start=False)"
      ]
     },
     "execution_count": 50,
     "metadata": {},
     "output_type": "execute_result"
    }
   ],
   "source": [
    "model.fit(X_st,y)"
   ]
  },
  {
   "cell_type": "code",
   "execution_count": 51,
   "metadata": {
    "scrolled": true
   },
   "outputs": [
    {
     "data": {
      "text/plain": [
       "array([ 8.60074457e+01, -9.27415490e+01, -2.83318300e+02,  2.57330747e-01,\n",
       "        1.01357048e+02,  1.89387781e+01, -2.32025721e+02,  4.27126315e+02,\n",
       "       -1.27451598e+01,  1.37772313e+01, -5.19116603e+01, -2.40791913e+01,\n",
       "        6.28682918e+01, -3.12145560e+01, -1.40022803e+01, -5.70207217e+00,\n",
       "       -5.98460952e+00,  6.24887890e+01,  4.85708352e+00,  1.20784120e+02,\n",
       "       -2.28609744e+01, -8.34040184e+01,  9.32077707e-01,  3.08087094e+01,\n",
       "        2.32760628e+01, -1.65541243e+01,  1.72979830e+01,  4.95726188e+01,\n",
       "        1.96721753e+01, -4.73517045e+01, -1.18371817e+01])"
      ]
     },
     "execution_count": 51,
     "metadata": {},
     "output_type": "execute_result"
    }
   ],
   "source": [
    "model.coef_"
   ]
  },
  {
   "cell_type": "code",
   "execution_count": 53,
   "metadata": {},
   "outputs": [
    {
     "ename": "AttributeError",
     "evalue": "'numpy.ndarray' object has no attribute 'columns'",
     "output_type": "error",
     "traceback": [
      "\u001b[0;31m---------------------------------------------------------------------------\u001b[0m",
      "\u001b[0;31mAttributeError\u001b[0m                            Traceback (most recent call last)",
      "\u001b[0;32m<ipython-input-53-d81aa06717c4>\u001b[0m in \u001b[0;36m<module>\u001b[0;34m()\u001b[0m\n\u001b[0;32m----> 1\u001b[0;31m \u001b[0mX_st\u001b[0m\u001b[0;34m.\u001b[0m\u001b[0mcolumns\u001b[0m\u001b[0;34m(\u001b[0m\u001b[0;34m)\u001b[0m\u001b[0;34m\u001b[0m\u001b[0m\n\u001b[0m",
      "\u001b[0;31mAttributeError\u001b[0m: 'numpy.ndarray' object has no attribute 'columns'"
     ]
    }
   ],
   "source": [
    "X_st.columns"
   ]
  },
  {
   "cell_type": "markdown",
   "metadata": {},
   "source": [
    "## Selección del mejor alpha"
   ]
  },
  {
   "cell_type": "code",
   "execution_count": 54,
   "metadata": {
    "scrolled": true
   },
   "outputs": [],
   "source": [
    "model_lassoCV = linear_model.LassoCV()\n",
    "results = cross_val_score(model_lassoCV,X_st,y,cv=5,scoring='r2')"
   ]
  },
  {
   "cell_type": "code",
   "execution_count": 55,
   "metadata": {},
   "outputs": [
    {
     "data": {
      "text/plain": [
       "0.0063229686817035"
      ]
     },
     "execution_count": 55,
     "metadata": {},
     "output_type": "execute_result"
    }
   ],
   "source": [
    "np.mean(results)"
   ]
  },
  {
   "cell_type": "code",
   "execution_count": 56,
   "metadata": {},
   "outputs": [
    {
     "data": {
      "text/plain": [
       "0.07131441370909501"
      ]
     },
     "execution_count": 56,
     "metadata": {},
     "output_type": "execute_result"
    }
   ],
   "source": [
    "np.std(results)"
   ]
  },
  {
   "cell_type": "code",
   "execution_count": 58,
   "metadata": {},
   "outputs": [
    {
     "data": {
      "text/plain": [
       "LassoCV(alphas=None, copy_X=True, cv=None, eps=0.001, fit_intercept=True,\n",
       "    max_iter=1000, n_alphas=100, n_jobs=1, normalize=False, positive=False,\n",
       "    precompute='auto', random_state=None, selection='cyclic', tol=0.0001,\n",
       "    verbose=False)"
      ]
     },
     "execution_count": 58,
     "metadata": {},
     "output_type": "execute_result"
    }
   ],
   "source": [
    "model_lassoCV.fit(X_st,y)"
   ]
  },
  {
   "cell_type": "code",
   "execution_count": 59,
   "metadata": {},
   "outputs": [
    {
     "data": {
      "text/plain": [
       "148.42677246161202"
      ]
     },
     "execution_count": 59,
     "metadata": {},
     "output_type": "execute_result"
    }
   ],
   "source": [
    "model_lassoCV.alpha_"
   ]
  }
 ],
 "metadata": {
  "kernelspec": {
   "display_name": "Python 3",
   "language": "python",
   "name": "python3"
  },
  "language_info": {
   "codemirror_mode": {
    "name": "ipython",
    "version": 3
   },
   "file_extension": ".py",
   "mimetype": "text/x-python",
   "name": "python",
   "nbconvert_exporter": "python",
   "pygments_lexer": "ipython3",
   "version": "3.6.6"
  }
 },
 "nbformat": 4,
 "nbformat_minor": 2
}
