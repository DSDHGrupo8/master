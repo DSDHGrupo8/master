{
 "cells": [
  {
   "cell_type": "code",
   "execution_count": 1,
   "metadata": {},
   "outputs": [],
   "source": [
    "%matplotlib inline\n",
    "\n",
    "import pandas as pd\n",
    "import numpy as np\n",
    "import matplotlib.pyplot as plt\n",
    "from statistics import mode \n",
    "from matplotlib import cm as cm\n",
    "from sklearn import svm\n",
    "import seaborn as sns\n",
    "from sklearn import datasets, linear_model\n",
    "from sklearn.metrics import mean_squared_error, r2_score\n",
    "from sklearn.model_selection import train_test_split\n",
    "pd.set_option('display.max_columns', 500)"
   ]
  },
  {
   "cell_type": "code",
   "execution_count": 2,
   "metadata": {},
   "outputs": [],
   "source": [
    "df = pd.read_csv('properati_caballito_train.csv')\n",
    "cols = ['Unnamed: 0', 'Unnamed: 0.1','place_name', 'precio_m2_usd', 'description', 'title', 'property_type']\n",
    "df.drop(cols, axis=1, inplace=True)"
   ]
  },
  {
   "cell_type": "code",
   "execution_count": 3,
   "metadata": {},
   "outputs": [
    {
     "name": "stdout",
     "output_type": "stream",
     "text": [
      "Index(['lat', 'lon', 'price_aprox_usd', 'surface_total_in_m2',\n",
      "       'price_usd_per_m2', 'expenses', 'dummy_property_type__apartment',\n",
      "       'dummy_property_type__house', 'dummy_property_type__store', 'distSubte',\n",
      "       'distParque', 'dummy_pileta', 'dummy_balcon', 'dummy_patio',\n",
      "       'dummy_lavadero', 'dummy_cochera', 'dummy_luminoso', 'dummy_terraza',\n",
      "       'dummy_quincho', 'dummy_baulera', 'dummy_parrilla', 'dummy_premium',\n",
      "       'dummy_piscina', 'dummy_ascensor', 'dummy_profesional', 'dummy_alarma',\n",
      "       'dummy_amenities', 'dummy_calefaccion', 'dummy_pozo', 'dummy_gimnasio',\n",
      "       'dummy_aire acondicionado', 'dummy_spa', 'dummy_jacuzzi', 'dummy_cine'],\n",
      "      dtype='object')\n",
      "(258, 34)\n"
     ]
    },
    {
     "data": {
      "text/html": [
       "<div>\n",
       "<style scoped>\n",
       "    .dataframe tbody tr th:only-of-type {\n",
       "        vertical-align: middle;\n",
       "    }\n",
       "\n",
       "    .dataframe tbody tr th {\n",
       "        vertical-align: top;\n",
       "    }\n",
       "\n",
       "    .dataframe thead th {\n",
       "        text-align: right;\n",
       "    }\n",
       "</style>\n",
       "<table border=\"1\" class=\"dataframe\">\n",
       "  <thead>\n",
       "    <tr style=\"text-align: right;\">\n",
       "      <th></th>\n",
       "      <th>lat</th>\n",
       "      <th>lon</th>\n",
       "      <th>price_aprox_usd</th>\n",
       "      <th>surface_total_in_m2</th>\n",
       "      <th>price_usd_per_m2</th>\n",
       "      <th>expenses</th>\n",
       "      <th>dummy_property_type__apartment</th>\n",
       "      <th>dummy_property_type__house</th>\n",
       "      <th>dummy_property_type__store</th>\n",
       "      <th>distSubte</th>\n",
       "      <th>distParque</th>\n",
       "      <th>dummy_pileta</th>\n",
       "      <th>dummy_balcon</th>\n",
       "      <th>dummy_patio</th>\n",
       "      <th>dummy_lavadero</th>\n",
       "      <th>dummy_cochera</th>\n",
       "      <th>dummy_luminoso</th>\n",
       "      <th>dummy_terraza</th>\n",
       "      <th>dummy_quincho</th>\n",
       "      <th>dummy_baulera</th>\n",
       "      <th>dummy_parrilla</th>\n",
       "      <th>dummy_premium</th>\n",
       "      <th>dummy_piscina</th>\n",
       "      <th>dummy_ascensor</th>\n",
       "      <th>dummy_profesional</th>\n",
       "      <th>dummy_alarma</th>\n",
       "      <th>dummy_amenities</th>\n",
       "      <th>dummy_calefaccion</th>\n",
       "      <th>dummy_pozo</th>\n",
       "      <th>dummy_gimnasio</th>\n",
       "      <th>dummy_aire acondicionado</th>\n",
       "      <th>dummy_spa</th>\n",
       "      <th>dummy_jacuzzi</th>\n",
       "      <th>dummy_cine</th>\n",
       "    </tr>\n",
       "  </thead>\n",
       "  <tbody>\n",
       "    <tr>\n",
       "      <th>11</th>\n",
       "      <td>-34.625947</td>\n",
       "      <td>-58.432822</td>\n",
       "      <td>158000</td>\n",
       "      <td>71</td>\n",
       "      <td>2225.352113</td>\n",
       "      <td>2653.0</td>\n",
       "      <td>1</td>\n",
       "      <td>0</td>\n",
       "      <td>0</td>\n",
       "      <td>0.247603</td>\n",
       "      <td>0.788630</td>\n",
       "      <td>0</td>\n",
       "      <td>0</td>\n",
       "      <td>0</td>\n",
       "      <td>1</td>\n",
       "      <td>0</td>\n",
       "      <td>0</td>\n",
       "      <td>0</td>\n",
       "      <td>0</td>\n",
       "      <td>0</td>\n",
       "      <td>0</td>\n",
       "      <td>0</td>\n",
       "      <td>0</td>\n",
       "      <td>1</td>\n",
       "      <td>0</td>\n",
       "      <td>0</td>\n",
       "      <td>0</td>\n",
       "      <td>0</td>\n",
       "      <td>0</td>\n",
       "      <td>0</td>\n",
       "      <td>0</td>\n",
       "      <td>0</td>\n",
       "      <td>0</td>\n",
       "      <td>0</td>\n",
       "    </tr>\n",
       "    <tr>\n",
       "      <th>44</th>\n",
       "      <td>-34.604515</td>\n",
       "      <td>-58.461172</td>\n",
       "      <td>112000</td>\n",
       "      <td>50</td>\n",
       "      <td>2240.000000</td>\n",
       "      <td>900.0</td>\n",
       "      <td>1</td>\n",
       "      <td>0</td>\n",
       "      <td>0</td>\n",
       "      <td>1.891134</td>\n",
       "      <td>1.028738</td>\n",
       "      <td>0</td>\n",
       "      <td>0</td>\n",
       "      <td>0</td>\n",
       "      <td>0</td>\n",
       "      <td>0</td>\n",
       "      <td>0</td>\n",
       "      <td>0</td>\n",
       "      <td>0</td>\n",
       "      <td>0</td>\n",
       "      <td>1</td>\n",
       "      <td>0</td>\n",
       "      <td>0</td>\n",
       "      <td>1</td>\n",
       "      <td>0</td>\n",
       "      <td>0</td>\n",
       "      <td>0</td>\n",
       "      <td>0</td>\n",
       "      <td>0</td>\n",
       "      <td>0</td>\n",
       "      <td>0</td>\n",
       "      <td>0</td>\n",
       "      <td>0</td>\n",
       "      <td>0</td>\n",
       "    </tr>\n",
       "    <tr>\n",
       "      <th>68</th>\n",
       "      <td>-34.603684</td>\n",
       "      <td>-58.381559</td>\n",
       "      <td>310000</td>\n",
       "      <td>77</td>\n",
       "      <td>4025.974026</td>\n",
       "      <td>4000.0</td>\n",
       "      <td>1</td>\n",
       "      <td>0</td>\n",
       "      <td>0</td>\n",
       "      <td>4.554738</td>\n",
       "      <td>4.716400</td>\n",
       "      <td>0</td>\n",
       "      <td>0</td>\n",
       "      <td>0</td>\n",
       "      <td>0</td>\n",
       "      <td>0</td>\n",
       "      <td>0</td>\n",
       "      <td>0</td>\n",
       "      <td>0</td>\n",
       "      <td>0</td>\n",
       "      <td>0</td>\n",
       "      <td>0</td>\n",
       "      <td>0</td>\n",
       "      <td>0</td>\n",
       "      <td>0</td>\n",
       "      <td>0</td>\n",
       "      <td>0</td>\n",
       "      <td>0</td>\n",
       "      <td>0</td>\n",
       "      <td>0</td>\n",
       "      <td>0</td>\n",
       "      <td>0</td>\n",
       "      <td>0</td>\n",
       "      <td>0</td>\n",
       "    </tr>\n",
       "    <tr>\n",
       "      <th>69</th>\n",
       "      <td>-34.615499</td>\n",
       "      <td>-58.463721</td>\n",
       "      <td>102000</td>\n",
       "      <td>54</td>\n",
       "      <td>1888.888889</td>\n",
       "      <td>1800.0</td>\n",
       "      <td>1</td>\n",
       "      <td>0</td>\n",
       "      <td>0</td>\n",
       "      <td>1.398155</td>\n",
       "      <td>0.441211</td>\n",
       "      <td>0</td>\n",
       "      <td>0</td>\n",
       "      <td>0</td>\n",
       "      <td>0</td>\n",
       "      <td>0</td>\n",
       "      <td>0</td>\n",
       "      <td>0</td>\n",
       "      <td>0</td>\n",
       "      <td>0</td>\n",
       "      <td>0</td>\n",
       "      <td>0</td>\n",
       "      <td>0</td>\n",
       "      <td>0</td>\n",
       "      <td>0</td>\n",
       "      <td>0</td>\n",
       "      <td>0</td>\n",
       "      <td>0</td>\n",
       "      <td>0</td>\n",
       "      <td>0</td>\n",
       "      <td>0</td>\n",
       "      <td>0</td>\n",
       "      <td>0</td>\n",
       "      <td>0</td>\n",
       "    </tr>\n",
       "    <tr>\n",
       "      <th>70</th>\n",
       "      <td>-34.615499</td>\n",
       "      <td>-58.463721</td>\n",
       "      <td>102000</td>\n",
       "      <td>54</td>\n",
       "      <td>1888.888889</td>\n",
       "      <td>1800.0</td>\n",
       "      <td>0</td>\n",
       "      <td>0</td>\n",
       "      <td>0</td>\n",
       "      <td>1.398155</td>\n",
       "      <td>0.441211</td>\n",
       "      <td>0</td>\n",
       "      <td>0</td>\n",
       "      <td>0</td>\n",
       "      <td>0</td>\n",
       "      <td>0</td>\n",
       "      <td>0</td>\n",
       "      <td>0</td>\n",
       "      <td>0</td>\n",
       "      <td>0</td>\n",
       "      <td>0</td>\n",
       "      <td>0</td>\n",
       "      <td>0</td>\n",
       "      <td>0</td>\n",
       "      <td>0</td>\n",
       "      <td>0</td>\n",
       "      <td>0</td>\n",
       "      <td>0</td>\n",
       "      <td>0</td>\n",
       "      <td>0</td>\n",
       "      <td>0</td>\n",
       "      <td>0</td>\n",
       "      <td>0</td>\n",
       "      <td>0</td>\n",
       "    </tr>\n",
       "  </tbody>\n",
       "</table>\n",
       "</div>"
      ],
      "text/plain": [
       "          lat        lon  price_aprox_usd  surface_total_in_m2  \\\n",
       "11 -34.625947 -58.432822           158000                   71   \n",
       "44 -34.604515 -58.461172           112000                   50   \n",
       "68 -34.603684 -58.381559           310000                   77   \n",
       "69 -34.615499 -58.463721           102000                   54   \n",
       "70 -34.615499 -58.463721           102000                   54   \n",
       "\n",
       "    price_usd_per_m2  expenses  dummy_property_type__apartment  \\\n",
       "11       2225.352113    2653.0                               1   \n",
       "44       2240.000000     900.0                               1   \n",
       "68       4025.974026    4000.0                               1   \n",
       "69       1888.888889    1800.0                               1   \n",
       "70       1888.888889    1800.0                               0   \n",
       "\n",
       "    dummy_property_type__house  dummy_property_type__store  distSubte  \\\n",
       "11                           0                           0   0.247603   \n",
       "44                           0                           0   1.891134   \n",
       "68                           0                           0   4.554738   \n",
       "69                           0                           0   1.398155   \n",
       "70                           0                           0   1.398155   \n",
       "\n",
       "    distParque  dummy_pileta  dummy_balcon  dummy_patio  dummy_lavadero  \\\n",
       "11    0.788630             0             0            0               1   \n",
       "44    1.028738             0             0            0               0   \n",
       "68    4.716400             0             0            0               0   \n",
       "69    0.441211             0             0            0               0   \n",
       "70    0.441211             0             0            0               0   \n",
       "\n",
       "    dummy_cochera  dummy_luminoso  dummy_terraza  dummy_quincho  \\\n",
       "11              0               0              0              0   \n",
       "44              0               0              0              0   \n",
       "68              0               0              0              0   \n",
       "69              0               0              0              0   \n",
       "70              0               0              0              0   \n",
       "\n",
       "    dummy_baulera  dummy_parrilla  dummy_premium  dummy_piscina  \\\n",
       "11              0               0              0              0   \n",
       "44              0               1              0              0   \n",
       "68              0               0              0              0   \n",
       "69              0               0              0              0   \n",
       "70              0               0              0              0   \n",
       "\n",
       "    dummy_ascensor  dummy_profesional  dummy_alarma  dummy_amenities  \\\n",
       "11               1                  0             0                0   \n",
       "44               1                  0             0                0   \n",
       "68               0                  0             0                0   \n",
       "69               0                  0             0                0   \n",
       "70               0                  0             0                0   \n",
       "\n",
       "    dummy_calefaccion  dummy_pozo  dummy_gimnasio  dummy_aire acondicionado  \\\n",
       "11                  0           0               0                         0   \n",
       "44                  0           0               0                         0   \n",
       "68                  0           0               0                         0   \n",
       "69                  0           0               0                         0   \n",
       "70                  0           0               0                         0   \n",
       "\n",
       "    dummy_spa  dummy_jacuzzi  dummy_cine  \n",
       "11          0              0           0  \n",
       "44          0              0           0  \n",
       "68          0              0           0  \n",
       "69          0              0           0  \n",
       "70          0              0           0  "
      ]
     },
     "execution_count": 3,
     "metadata": {},
     "output_type": "execute_result"
    }
   ],
   "source": [
    "# DF\n",
    "df = df.dropna()\n",
    "print(df.columns) \n",
    "print(df.shape)\n",
    "df.head(5)"
   ]
  },
  {
   "cell_type": "code",
   "execution_count": 26,
   "metadata": {},
   "outputs": [],
   "source": [
    "#GRAFICO DE CORRELACIÓN\n",
    "#k = 33\n",
    "#cols = df.corr().nlargest(k,'price_usd_per_m2')['price_usd_per_m2'].index\n",
    "#cm = df[cols].corr()\n",
    "#plt.figure(figsize=(20,15))\n",
    "#sns.heatmap(cm, annot=True, cmap = 'OrRd');"
   ]
  },
  {
   "cell_type": "code",
   "execution_count": 6,
   "metadata": {},
   "outputs": [
    {
     "name": "stdout",
     "output_type": "stream",
     "text": [
      "(258, 32)\n",
      "(258,)\n"
     ]
    }
   ],
   "source": [
    "X = df[['lat', 'lon', 'expenses', 'surface_total_in_m2', 'dummy_property_type__apartment',\n",
    "       'dummy_property_type__house', 'dummy_property_type__store', 'distSubte',\n",
    "       'distParque', 'dummy_pileta', 'dummy_balcon', 'dummy_patio',\n",
    "       'dummy_lavadero', 'dummy_cochera', 'dummy_luminoso', 'dummy_terraza',\n",
    "       'dummy_quincho', 'dummy_baulera', 'dummy_parrilla', 'dummy_premium',\n",
    "       'dummy_piscina', 'dummy_ascensor', 'dummy_profesional', 'dummy_alarma',\n",
    "       'dummy_amenities', 'dummy_calefaccion', 'dummy_pozo', 'dummy_gimnasio',\n",
    "       'dummy_aire acondicionado', 'dummy_spa', 'dummy_jacuzzi', 'dummy_cine']]\n",
    "y = df['price_usd_per_m2']\n",
    "print(X.shape)\n",
    "print(y.shape)"
   ]
  },
  {
   "cell_type": "code",
   "execution_count": 7,
   "metadata": {},
   "outputs": [
    {
     "name": "stdout",
     "output_type": "stream",
     "text": [
      "[-2.10493826e+03 -6.18545840e+03  1.25106800e-01 -4.53451091e+00\n",
      "  4.38329381e+02 -2.47837306e-11 -8.35598257e-12 -3.97214016e+01\n",
      "  1.68452282e+02 -4.03739566e+02 -1.30042923e+02 -2.15915668e+02\n",
      "  5.74326208e+00  3.26214051e+02 -7.47475213e+01 -1.11152998e+01\n",
      " -3.34348013e+02 -2.29227310e+02 -5.03920575e+01 -5.34328137e-12\n",
      "  5.30902948e+02 -1.23177398e+02  2.58095009e+01 -3.99530134e+01\n",
      "  4.10261079e+02  8.84286401e+01 -2.41151397e+02  7.84928550e+01\n",
      "  3.66657576e+02  2.33756154e+01 -2.73455337e+02 -3.53366441e+02]\n",
      "-432472.3794025557\n"
     ]
    }
   ],
   "source": [
    "# Seleccionar modelo\n",
    "from sklearn.linear_model import LinearRegression\n",
    "# Elegir hiperparámetros\n",
    "model = LinearRegression(fit_intercept=True)\n",
    "\n",
    "# Split entrenamiento / testeo para CV\n",
    "from sklearn.model_selection import train_test_split\n",
    "Xtrain, Xtest, ytrain, ytest = train_test_split(dfX, y, random_state=1)\n",
    "#Ajustar el modelo a los datos\n",
    "model.fit(Xtrain, ytrain)\n",
    "print (model.coef_)\n",
    "print (model.intercept_)"
   ]
  },
  {
   "cell_type": "code",
   "execution_count": 8,
   "metadata": {},
   "outputs": [
    {
     "name": "stdout",
     "output_type": "stream",
     "text": [
      "MAE: 274.49781578412484\n",
      "MSE: 133986.07603800687\n",
      "RMSE: 366.0410851776162\n",
      "R2: 0.5449922066714364\n"
     ]
    }
   ],
   "source": [
    "ypred = model.predict(Xtest)\n",
    "from sklearn import metrics\n",
    "print ('MAE:', metrics.mean_absolute_error(ytest, ypred))\n",
    "print ('MSE:', metrics.mean_squared_error(ytest, ypred))\n",
    "print ('RMSE:', np.sqrt(metrics.mean_squared_error(ytest, ypred)))\n",
    "print ('R2:', metrics.r2_score(ytest, ypred))"
   ]
  },
  {
   "cell_type": "markdown",
   "metadata": {},
   "source": [
    "## REGULARIZAR antes de LASSO"
   ]
  },
  {
   "cell_type": "code",
   "execution_count": 9,
   "metadata": {},
   "outputs": [],
   "source": [
    "from sklearn.preprocessing import StandardScaler"
   ]
  },
  {
   "cell_type": "code",
   "execution_count": 10,
   "metadata": {},
   "outputs": [],
   "source": [
    "se = StandardScaler()"
   ]
  },
  {
   "cell_type": "code",
   "execution_count": 11,
   "metadata": {},
   "outputs": [],
   "source": [
    "df_random = dfX.sample(frac=1,random_state = 42)"
   ]
  },
  {
   "cell_type": "code",
   "execution_count": 12,
   "metadata": {},
   "outputs": [],
   "source": [
    "X_st = se.fit_transform(X)"
   ]
  },
  {
   "cell_type": "code",
   "execution_count": 13,
   "metadata": {
    "scrolled": true
   },
   "outputs": [
    {
     "data": {
      "text/plain": [
       "array([[-1.0214413 ,  0.7141658 ,  0.09082017, -0.20229539,  0.12549116,\n",
       "         0.        ,  0.        , -0.65934579,  0.16314451, -0.15430335,\n",
       "        -0.35586171, -0.30532006,  1.83654059, -0.39617   , -0.45963856,\n",
       "        -0.40269363, -0.15430335, -0.3695455 , -0.3695455 ,  0.        ,\n",
       "        -0.25712974,  3.54668118, -0.4346724 , -0.06237829, -0.51449576,\n",
       "        -0.19011728, -0.12549116, -0.12549116, -0.22086305, -0.32756089,\n",
       "        -0.10846523, -0.08838835],\n",
       "       [ 1.51997349, -1.42910024, -0.65505966, -0.61793301,  0.12549116,\n",
       "         0.        ,  0.        ,  1.37233108,  0.46380816, -0.15430335,\n",
       "        -0.35586171, -0.30532006, -0.54450199, -0.39617   , -0.45963856,\n",
       "        -0.40269363, -0.15430335, -0.3695455 ,  2.70602673,  0.        ,\n",
       "        -0.25712974,  3.54668118, -0.4346724 , -0.06237829, -0.51449576,\n",
       "        -0.19011728, -0.12549116, -0.12549116, -0.22086305, -0.32756089,\n",
       "        -0.10846523, -0.08838835],\n",
       "       [ 1.61844028,  4.58957176,  0.66395202, -0.08354178,  0.12549116,\n",
       "         0.        ,  0.        ,  4.66498877,  5.08151454, -0.15430335,\n",
       "        -0.35586171, -0.30532006, -0.54450199, -0.39617   , -0.45963856,\n",
       "        -0.40269363, -0.15430335, -0.3695455 , -0.3695455 ,  0.        ,\n",
       "        -0.25712974, -0.28195373, -0.4346724 , -0.06237829, -0.51449576,\n",
       "        -0.19011728, -0.12549116, -0.12549116, -0.22086305, -0.32756089,\n",
       "        -0.10846523, -0.08838835],\n",
       "       [ 0.21750595, -1.62174093, -0.27212079, -0.53876394,  0.12549116,\n",
       "         0.        ,  0.        ,  0.76292809, -0.27189535, -0.15430335,\n",
       "        -0.35586171, -0.30532006, -0.54450199, -0.39617   , -0.45963856,\n",
       "        -0.40269363, -0.15430335, -0.3695455 , -0.3695455 ,  0.        ,\n",
       "        -0.25712974, -0.28195373, -0.4346724 , -0.06237829, -0.51449576,\n",
       "        -0.19011728, -0.12549116, -0.12549116, -0.22086305, -0.32756089,\n",
       "        -0.10846523, -0.08838835],\n",
       "       [ 0.21750595, -1.62174093, -0.27212079, -0.53876394, -7.96868873,\n",
       "         0.        ,  0.        ,  0.76292809, -0.27189535, -0.15430335,\n",
       "        -0.35586171, -0.30532006, -0.54450199, -0.39617   , -0.45963856,\n",
       "        -0.40269363, -0.15430335, -0.3695455 , -0.3695455 ,  0.        ,\n",
       "        -0.25712974, -0.28195373, -0.4346724 , -0.06237829, -0.51449576,\n",
       "        -0.19011728, -0.12549116, -0.12549116, -0.22086305, -0.32756089,\n",
       "        -0.10846523, -0.08838835]])"
      ]
     },
     "execution_count": 13,
     "metadata": {},
     "output_type": "execute_result"
    }
   ],
   "source": [
    "X_st[0:5]"
   ]
  },
  {
   "cell_type": "code",
   "execution_count": 14,
   "metadata": {
    "scrolled": true
   },
   "outputs": [
    {
     "data": {
      "text/plain": [
       "array([1., 1., 1., 1., 1., 0., 0., 1., 1., 1., 1., 1., 1., 1., 1., 1., 1.,\n",
       "       1., 1., 0., 1., 1., 1., 1., 1., 1., 1., 1., 1., 1., 1., 1.])"
      ]
     },
     "execution_count": 14,
     "metadata": {},
     "output_type": "execute_result"
    }
   ],
   "source": [
    "np.std(X_st,axis=0)"
   ]
  },
  {
   "cell_type": "markdown",
   "metadata": {},
   "source": [
    "## LASSO sobre DS CON expensas"
   ]
  },
  {
   "cell_type": "code",
   "execution_count": 16,
   "metadata": {
    "scrolled": true
   },
   "outputs": [
    {
     "data": {
      "text/plain": [
       "Lasso(alpha=1.0, copy_X=True, fit_intercept=True, max_iter=1000,\n",
       "   normalize=False, positive=False, precompute=False, random_state=None,\n",
       "   selection='cyclic', tol=0.0001, warm_start=False)"
      ]
     },
     "execution_count": 16,
     "metadata": {},
     "output_type": "execute_result"
    }
   ],
   "source": [
    "from sklearn.linear_model import Lasso\n",
    "from sklearn.model_selection import cross_val_score\n",
    "model = Lasso()\n",
    "model"
   ]
  },
  {
   "cell_type": "code",
   "execution_count": 17,
   "metadata": {},
   "outputs": [
    {
     "name": "stdout",
     "output_type": "stream",
     "text": [
      "[0.10555682 0.31593001 0.17046702 0.38504342 0.08872867]\n",
      "0.21314518493662934\n",
      "0.11746478059008673\n"
     ]
    }
   ],
   "source": [
    "results = cross_val_score(model,X_st,y,cv=5)\n",
    "print(results)\n",
    "print(np.mean(results))\n",
    "print(np.std(results))"
   ]
  },
  {
   "cell_type": "code",
   "execution_count": 18,
   "metadata": {},
   "outputs": [
    {
     "data": {
      "text/plain": [
       "Lasso(alpha=1.0, copy_X=True, fit_intercept=True, max_iter=1000,\n",
       "   normalize=False, positive=False, precompute=False, random_state=None,\n",
       "   selection='cyclic', tol=0.0001, warm_start=False)"
      ]
     },
     "execution_count": 18,
     "metadata": {},
     "output_type": "execute_result"
    }
   ],
   "source": [
    "model.fit(X_st,y)"
   ]
  },
  {
   "cell_type": "code",
   "execution_count": 19,
   "metadata": {
    "scrolled": true
   },
   "outputs": [
    {
     "data": {
      "text/plain": [
       "array([ -21.42001033,  -95.28521809,  289.66328869, -223.4771099 ,\n",
       "         63.06208967,    0.        ,    0.        ,  -11.79022227,\n",
       "        145.65901344,   -9.9114755 ,  -43.37461591,  -66.44400478,\n",
       "         -3.20813855,   96.69692694,  -37.28470632,   29.71776738,\n",
       "        -53.3341875 ,  -65.92034191,  -24.82071877,    0.        ,\n",
       "        107.85400714,   -7.86716666,    0.        ,   -8.02018092,\n",
       "        142.41600092,   -0.65013814,  -56.69815594,   34.64193924,\n",
       "         67.15287123,   17.17271191,  -50.56539352,  -35.37850706])"
      ]
     },
     "execution_count": 19,
     "metadata": {},
     "output_type": "execute_result"
    }
   ],
   "source": [
    "model.coef_"
   ]
  },
  {
   "cell_type": "code",
   "execution_count": 20,
   "metadata": {},
   "outputs": [
    {
     "ename": "AttributeError",
     "evalue": "'numpy.ndarray' object has no attribute 'columns'",
     "output_type": "error",
     "traceback": [
      "\u001b[0;31m---------------------------------------------------------------------------\u001b[0m",
      "\u001b[0;31mAttributeError\u001b[0m                            Traceback (most recent call last)",
      "\u001b[0;32m<ipython-input-20-0c497399e0f1>\u001b[0m in \u001b[0;36m<module>\u001b[0;34m()\u001b[0m\n\u001b[0;32m----> 1\u001b[0;31m \u001b[0mX_st\u001b[0m\u001b[0;34m.\u001b[0m\u001b[0mcolumns\u001b[0m\u001b[0;34m\u001b[0m\u001b[0m\n\u001b[0m",
      "\u001b[0;31mAttributeError\u001b[0m: 'numpy.ndarray' object has no attribute 'columns'"
     ]
    }
   ],
   "source": [
    "X_st.columns"
   ]
  },
  {
   "cell_type": "markdown",
   "metadata": {},
   "source": [
    "## Selección del mejor alpha"
   ]
  },
  {
   "cell_type": "code",
   "execution_count": 21,
   "metadata": {
    "scrolled": true
   },
   "outputs": [],
   "source": [
    "model_lassoCV = linear_model.LassoCV()\n",
    "results = cross_val_score(model_lassoCV,X_st,y,cv=5,scoring='r2')"
   ]
  },
  {
   "cell_type": "code",
   "execution_count": 22,
   "metadata": {},
   "outputs": [
    {
     "data": {
      "text/plain": [
       "0.22665684426742733"
      ]
     },
     "execution_count": 22,
     "metadata": {},
     "output_type": "execute_result"
    }
   ],
   "source": [
    "np.mean(results)"
   ]
  },
  {
   "cell_type": "code",
   "execution_count": 23,
   "metadata": {},
   "outputs": [
    {
     "data": {
      "text/plain": [
       "0.13327122591182358"
      ]
     },
     "execution_count": 23,
     "metadata": {},
     "output_type": "execute_result"
    }
   ],
   "source": [
    "np.std(results)"
   ]
  },
  {
   "cell_type": "code",
   "execution_count": 24,
   "metadata": {},
   "outputs": [
    {
     "data": {
      "text/plain": [
       "LassoCV(alphas=None, copy_X=True, cv=None, eps=0.001, fit_intercept=True,\n",
       "    max_iter=1000, n_alphas=100, n_jobs=1, normalize=False, positive=False,\n",
       "    precompute='auto', random_state=None, selection='cyclic', tol=0.0001,\n",
       "    verbose=False)"
      ]
     },
     "execution_count": 24,
     "metadata": {},
     "output_type": "execute_result"
    }
   ],
   "source": [
    "model_lassoCV.fit(X_st,y)"
   ]
  },
  {
   "cell_type": "code",
   "execution_count": 25,
   "metadata": {},
   "outputs": [
    {
     "data": {
      "text/plain": [
       "17.708394033014173"
      ]
     },
     "execution_count": 25,
     "metadata": {},
     "output_type": "execute_result"
    }
   ],
   "source": [
    "model_lassoCV.alpha_"
   ]
  }
 ],
 "metadata": {
  "kernelspec": {
   "display_name": "Python 3",
   "language": "python",
   "name": "python3"
  },
  "language_info": {
   "codemirror_mode": {
    "name": "ipython",
    "version": 3
   },
   "file_extension": ".py",
   "mimetype": "text/x-python",
   "name": "python",
   "nbconvert_exporter": "python",
   "pygments_lexer": "ipython3",
   "version": "3.6.6"
  }
 },
 "nbformat": 4,
 "nbformat_minor": 2
}
