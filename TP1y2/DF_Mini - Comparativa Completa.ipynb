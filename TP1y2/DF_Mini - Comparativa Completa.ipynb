{
 "cells": [
  {
   "cell_type": "code",
   "execution_count": 14,
   "metadata": {},
   "outputs": [],
   "source": [
    "% matplotlib inline\n",
    "\n",
    "from matplotlib import pyplot as plt\n",
    "plt.rcParams['figure.figsize'] = 10, 10\n",
    "\n",
    "import numpy as np\n",
    "import pandas as pd\n",
    "from scipy import stats\n",
    "import seaborn as sns\n",
    "from sklearn import datasets\n",
    "from sklearn.model_selection import train_test_split, KFold, cross_val_score\n",
    "from sklearn.linear_model import LinearRegression, Lasso, LassoCV, Ridge, RidgeCV\n",
    "from sklearn.preprocessing import PolynomialFeatures, StandardScaler\n",
    "from sklearn.metrics import mean_squared_error, r2_score"
   ]
  },
  {
   "cell_type": "code",
   "execution_count": 15,
   "metadata": {
    "scrolled": true
   },
   "outputs": [],
   "source": [
    "df = pd.read_csv('properati_caballito_train.csv')\n",
    "cols = ['Unnamed: 0', 'Unnamed: 0.1','place_name', 'precio_m2_usd', 'description', 'title', 'property_type']\n",
    "df.drop(cols, axis=1, inplace=True)"
   ]
  },
  {
   "cell_type": "code",
   "execution_count": 16,
   "metadata": {},
   "outputs": [
    {
     "name": "stdout",
     "output_type": "stream",
     "text": [
      "Index(['lat', 'lon', 'price_aprox_usd', 'surface_total_in_m2',\n",
      "       'price_usd_per_m2', 'expenses', 'dummy_property_type__apartment',\n",
      "       'dummy_property_type__house', 'dummy_property_type__store', 'distSubte',\n",
      "       'distParque', 'dummy_pileta', 'dummy_balcon', 'dummy_patio',\n",
      "       'dummy_lavadero', 'dummy_cochera', 'dummy_luminoso', 'dummy_terraza',\n",
      "       'dummy_quincho', 'dummy_baulera', 'dummy_parrilla', 'dummy_premium',\n",
      "       'dummy_piscina', 'dummy_ascensor', 'dummy_profesional', 'dummy_alarma',\n",
      "       'dummy_amenities', 'dummy_calefaccion', 'dummy_pozo', 'dummy_gimnasio',\n",
      "       'dummy_aire acondicionado', 'dummy_spa', 'dummy_jacuzzi', 'dummy_cine'],\n",
      "      dtype='object')\n",
      "(258, 34)\n"
     ]
    },
    {
     "data": {
      "text/html": [
       "<div>\n",
       "<style scoped>\n",
       "    .dataframe tbody tr th:only-of-type {\n",
       "        vertical-align: middle;\n",
       "    }\n",
       "\n",
       "    .dataframe tbody tr th {\n",
       "        vertical-align: top;\n",
       "    }\n",
       "\n",
       "    .dataframe thead th {\n",
       "        text-align: right;\n",
       "    }\n",
       "</style>\n",
       "<table border=\"1\" class=\"dataframe\">\n",
       "  <thead>\n",
       "    <tr style=\"text-align: right;\">\n",
       "      <th></th>\n",
       "      <th>lat</th>\n",
       "      <th>lon</th>\n",
       "      <th>price_aprox_usd</th>\n",
       "      <th>surface_total_in_m2</th>\n",
       "      <th>price_usd_per_m2</th>\n",
       "      <th>expenses</th>\n",
       "      <th>dummy_property_type__apartment</th>\n",
       "      <th>dummy_property_type__house</th>\n",
       "      <th>dummy_property_type__store</th>\n",
       "      <th>distSubte</th>\n",
       "      <th>...</th>\n",
       "      <th>dummy_profesional</th>\n",
       "      <th>dummy_alarma</th>\n",
       "      <th>dummy_amenities</th>\n",
       "      <th>dummy_calefaccion</th>\n",
       "      <th>dummy_pozo</th>\n",
       "      <th>dummy_gimnasio</th>\n",
       "      <th>dummy_aire acondicionado</th>\n",
       "      <th>dummy_spa</th>\n",
       "      <th>dummy_jacuzzi</th>\n",
       "      <th>dummy_cine</th>\n",
       "    </tr>\n",
       "  </thead>\n",
       "  <tbody>\n",
       "    <tr>\n",
       "      <th>11</th>\n",
       "      <td>-34.625947</td>\n",
       "      <td>-58.432822</td>\n",
       "      <td>158000</td>\n",
       "      <td>71</td>\n",
       "      <td>2225.352113</td>\n",
       "      <td>2653.0</td>\n",
       "      <td>1</td>\n",
       "      <td>0</td>\n",
       "      <td>0</td>\n",
       "      <td>0.247603</td>\n",
       "      <td>...</td>\n",
       "      <td>0</td>\n",
       "      <td>0</td>\n",
       "      <td>0</td>\n",
       "      <td>0</td>\n",
       "      <td>0</td>\n",
       "      <td>0</td>\n",
       "      <td>0</td>\n",
       "      <td>0</td>\n",
       "      <td>0</td>\n",
       "      <td>0</td>\n",
       "    </tr>\n",
       "    <tr>\n",
       "      <th>44</th>\n",
       "      <td>-34.604515</td>\n",
       "      <td>-58.461172</td>\n",
       "      <td>112000</td>\n",
       "      <td>50</td>\n",
       "      <td>2240.000000</td>\n",
       "      <td>900.0</td>\n",
       "      <td>1</td>\n",
       "      <td>0</td>\n",
       "      <td>0</td>\n",
       "      <td>1.891134</td>\n",
       "      <td>...</td>\n",
       "      <td>0</td>\n",
       "      <td>0</td>\n",
       "      <td>0</td>\n",
       "      <td>0</td>\n",
       "      <td>0</td>\n",
       "      <td>0</td>\n",
       "      <td>0</td>\n",
       "      <td>0</td>\n",
       "      <td>0</td>\n",
       "      <td>0</td>\n",
       "    </tr>\n",
       "    <tr>\n",
       "      <th>68</th>\n",
       "      <td>-34.603684</td>\n",
       "      <td>-58.381559</td>\n",
       "      <td>310000</td>\n",
       "      <td>77</td>\n",
       "      <td>4025.974026</td>\n",
       "      <td>4000.0</td>\n",
       "      <td>1</td>\n",
       "      <td>0</td>\n",
       "      <td>0</td>\n",
       "      <td>4.554738</td>\n",
       "      <td>...</td>\n",
       "      <td>0</td>\n",
       "      <td>0</td>\n",
       "      <td>0</td>\n",
       "      <td>0</td>\n",
       "      <td>0</td>\n",
       "      <td>0</td>\n",
       "      <td>0</td>\n",
       "      <td>0</td>\n",
       "      <td>0</td>\n",
       "      <td>0</td>\n",
       "    </tr>\n",
       "    <tr>\n",
       "      <th>69</th>\n",
       "      <td>-34.615499</td>\n",
       "      <td>-58.463721</td>\n",
       "      <td>102000</td>\n",
       "      <td>54</td>\n",
       "      <td>1888.888889</td>\n",
       "      <td>1800.0</td>\n",
       "      <td>1</td>\n",
       "      <td>0</td>\n",
       "      <td>0</td>\n",
       "      <td>1.398155</td>\n",
       "      <td>...</td>\n",
       "      <td>0</td>\n",
       "      <td>0</td>\n",
       "      <td>0</td>\n",
       "      <td>0</td>\n",
       "      <td>0</td>\n",
       "      <td>0</td>\n",
       "      <td>0</td>\n",
       "      <td>0</td>\n",
       "      <td>0</td>\n",
       "      <td>0</td>\n",
       "    </tr>\n",
       "    <tr>\n",
       "      <th>70</th>\n",
       "      <td>-34.615499</td>\n",
       "      <td>-58.463721</td>\n",
       "      <td>102000</td>\n",
       "      <td>54</td>\n",
       "      <td>1888.888889</td>\n",
       "      <td>1800.0</td>\n",
       "      <td>0</td>\n",
       "      <td>0</td>\n",
       "      <td>0</td>\n",
       "      <td>1.398155</td>\n",
       "      <td>...</td>\n",
       "      <td>0</td>\n",
       "      <td>0</td>\n",
       "      <td>0</td>\n",
       "      <td>0</td>\n",
       "      <td>0</td>\n",
       "      <td>0</td>\n",
       "      <td>0</td>\n",
       "      <td>0</td>\n",
       "      <td>0</td>\n",
       "      <td>0</td>\n",
       "    </tr>\n",
       "  </tbody>\n",
       "</table>\n",
       "<p>5 rows × 34 columns</p>\n",
       "</div>"
      ],
      "text/plain": [
       "          lat        lon  price_aprox_usd  surface_total_in_m2  \\\n",
       "11 -34.625947 -58.432822           158000                   71   \n",
       "44 -34.604515 -58.461172           112000                   50   \n",
       "68 -34.603684 -58.381559           310000                   77   \n",
       "69 -34.615499 -58.463721           102000                   54   \n",
       "70 -34.615499 -58.463721           102000                   54   \n",
       "\n",
       "    price_usd_per_m2  expenses  dummy_property_type__apartment  \\\n",
       "11       2225.352113    2653.0                               1   \n",
       "44       2240.000000     900.0                               1   \n",
       "68       4025.974026    4000.0                               1   \n",
       "69       1888.888889    1800.0                               1   \n",
       "70       1888.888889    1800.0                               0   \n",
       "\n",
       "    dummy_property_type__house  dummy_property_type__store  distSubte  \\\n",
       "11                           0                           0   0.247603   \n",
       "44                           0                           0   1.891134   \n",
       "68                           0                           0   4.554738   \n",
       "69                           0                           0   1.398155   \n",
       "70                           0                           0   1.398155   \n",
       "\n",
       "       ...      dummy_profesional  dummy_alarma  dummy_amenities  \\\n",
       "11     ...                      0             0                0   \n",
       "44     ...                      0             0                0   \n",
       "68     ...                      0             0                0   \n",
       "69     ...                      0             0                0   \n",
       "70     ...                      0             0                0   \n",
       "\n",
       "    dummy_calefaccion  dummy_pozo  dummy_gimnasio  dummy_aire acondicionado  \\\n",
       "11                  0           0               0                         0   \n",
       "44                  0           0               0                         0   \n",
       "68                  0           0               0                         0   \n",
       "69                  0           0               0                         0   \n",
       "70                  0           0               0                         0   \n",
       "\n",
       "    dummy_spa  dummy_jacuzzi  dummy_cine  \n",
       "11          0              0           0  \n",
       "44          0              0           0  \n",
       "68          0              0           0  \n",
       "69          0              0           0  \n",
       "70          0              0           0  \n",
       "\n",
       "[5 rows x 34 columns]"
      ]
     },
     "execution_count": 16,
     "metadata": {},
     "output_type": "execute_result"
    }
   ],
   "source": [
    "# DF\n",
    "df = df.dropna()\n",
    "print(df.columns) \n",
    "print(df.shape)\n",
    "df.head(5)"
   ]
  },
  {
   "cell_type": "code",
   "execution_count": 17,
   "metadata": {},
   "outputs": [],
   "source": [
    "dfX = df[['lat', 'lon', 'surface_total_in_m2', 'dummy_property_type__apartment',\n",
    "       'dummy_property_type__house', 'dummy_property_type__store', 'distSubte',\n",
    "       'distParque', 'dummy_pileta', 'dummy_balcon', 'dummy_patio',\n",
    "       'dummy_lavadero', 'dummy_cochera', 'dummy_luminoso', 'dummy_terraza',\n",
    "       'dummy_quincho', 'dummy_baulera', 'dummy_parrilla', 'dummy_premium',\n",
    "       'dummy_piscina', 'dummy_ascensor', 'dummy_profesional', 'dummy_alarma',\n",
    "       'dummy_amenities', 'dummy_calefaccion', 'dummy_pozo', 'dummy_gimnasio',\n",
    "       'dummy_aire acondicionado', 'dummy_spa', 'dummy_jacuzzi', 'dummy_cine']]"
   ]
  },
  {
   "cell_type": "code",
   "execution_count": 18,
   "metadata": {},
   "outputs": [],
   "source": [
    "y = df['price_usd_per_m2']"
   ]
  },
  {
   "cell_type": "code",
   "execution_count": 19,
   "metadata": {},
   "outputs": [],
   "source": [
    "X = StandardScaler().fit_transform(dfX)"
   ]
  },
  {
   "cell_type": "code",
   "execution_count": 20,
   "metadata": {},
   "outputs": [
    {
     "name": "stdout",
     "output_type": "stream",
     "text": [
      "(180, 31) (180,)\n",
      "(78, 31) (78,)\n"
     ]
    }
   ],
   "source": [
    "X_train, X_test, y_train, y_test = train_test_split(X, y, test_size=0.3, random_state=53)\n",
    "print(X_train.shape, y_train.shape)\n",
    "print(X_test.shape, y_test.shape)"
   ]
  },
  {
   "cell_type": "code",
   "execution_count": 21,
   "metadata": {},
   "outputs": [],
   "source": [
    "# Generamos un grid de $\\alpha$ para probar e instanciamos un particionador del Training Set \n",
    "# en K partes para realizar la validación cruzada\n",
    "\n",
    "al_ridge = np.linspace(0.001, 2, 300)\n",
    "al_lasso = np.linspace(0.001, 2, 300)\n",
    "kf = KFold(n_splits=5, shuffle=True, random_state=12)\n",
    "\n",
    "# Instanciamos los modelos\n",
    "\n",
    "lm = LinearRegression()\n",
    "lmRidgeCV = RidgeCV(alphas=[0.1], cv=kf, normalize=False)\n",
    "lmLassoCV = LassoCV(alphas=al_lasso, cv=kf, normalize=False)"
   ]
  },
  {
   "cell_type": "code",
   "execution_count": 22,
   "metadata": {},
   "outputs": [],
   "source": [
    "#lmRidgeCV = RidgeCV(fit_intercept=False, alphas=[0.1], cv=kf, normalize=False)"
   ]
  },
  {
   "cell_type": "code",
   "execution_count": 23,
   "metadata": {},
   "outputs": [
    {
     "data": {
      "text/plain": [
       "LassoCV(alphas=array([1.00000e-03, 7.68562e-03, ..., 1.99331e+00, 2.00000e+00]),\n",
       "    copy_X=True, cv=KFold(n_splits=5, random_state=12, shuffle=True),\n",
       "    eps=0.001, fit_intercept=True, max_iter=1000, n_alphas=100, n_jobs=1,\n",
       "    normalize=False, positive=False, precompute='auto', random_state=None,\n",
       "    selection='cyclic', tol=0.0001, verbose=False)"
      ]
     },
     "execution_count": 23,
     "metadata": {},
     "output_type": "execute_result"
    }
   ],
   "source": [
    "# Hacemos los fits respectivos\n",
    "\n",
    "lm.fit(X_train, y_train)\n",
    "lmRidgeCV.fit(X_train, y_train)\n",
    "lmLassoCV.fit(X_train, y_train)"
   ]
  },
  {
   "cell_type": "code",
   "execution_count": 24,
   "metadata": {
    "scrolled": true
   },
   "outputs": [
    {
     "name": "stdout",
     "output_type": "stream",
     "text": [
      "Alpha Ridge: 0.1 \n",
      "Alpha LASSO: 2.0 \n",
      "\n"
     ]
    }
   ],
   "source": [
    "print('Alpha Ridge:',lmRidgeCV.alpha_,'\\n'\n",
    "      'Alpha LASSO:',lmLassoCV.alpha_,'\\n')"
   ]
  },
  {
   "cell_type": "code",
   "execution_count": 25,
   "metadata": {},
   "outputs": [
    {
     "name": "stdout",
     "output_type": "stream",
     "text": [
      "Score Train Lineal: 0.3642169075242392 \n",
      "Score Train Ridge: 0.3642165699590262 \n",
      "Score Train Lasso: 0.3630607047677302\n",
      "Train MSE lineal= 136362.7863638687 \n",
      "Train MSE Ridge= 136362.85876487082 \n",
      "Train MSE Lasso= 136610.7687832583\n"
     ]
    }
   ],
   "source": [
    "# Calculamos el R2\n",
    "\n",
    "print(\"Score Train Lineal:\", lm.score(X_train, y_train),\"\\n\"\n",
    "      \"Score Train Ridge:\",  lmRidgeCV.score(X_train, y_train),\"\\n\"\n",
    "      \"Score Train Lasso:\",  lmLassoCV.score(X_train, y_train))\n",
    "\n",
    "# Calculamos el MSE\n",
    "\n",
    "lmpred_Tr = lm.predict(X_train)\n",
    "lmRidgepred_Tr = lmRidgeCV.predict(X_train)\n",
    "lmLassoepred_Tr = lmLassoCV.predict(X_train)\n",
    "\n",
    "print(\"Train MSE lineal=\", mean_squared_error(y_train,lmpred_Tr), \"\\n\"\n",
    "      \"Train MSE Ridge=\",  mean_squared_error(y_train,lmRidgepred_Tr), \"\\n\"\n",
    "      \"Train MSE Lasso=\",  mean_squared_error(y_train,lmLassoepred_Tr))"
   ]
  }
 ],
 "metadata": {
  "kernelspec": {
   "display_name": "Python 3",
   "language": "python",
   "name": "python3"
  },
  "language_info": {
   "codemirror_mode": {
    "name": "ipython",
    "version": 3
   },
   "file_extension": ".py",
   "mimetype": "text/x-python",
   "name": "python",
   "nbconvert_exporter": "python",
   "pygments_lexer": "ipython3",
   "version": "3.6.6"
  }
 },
 "nbformat": 4,
 "nbformat_minor": 2
}
