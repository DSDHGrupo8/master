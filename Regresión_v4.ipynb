{
 "cells": [
  {
   "cell_type": "code",
   "execution_count": 1,
   "metadata": {},
   "outputs": [],
   "source": [
    "%matplotlib inline\n",
    "\n",
    "import pandas as pd\n",
    "import numpy as np\n",
    "import matplotlib.pyplot as plt\n",
    "from statistics import mode \n",
    "from matplotlib import cm as cm\n",
    "from sklearn import svm\n",
    "import seaborn as sns\n",
    "from sklearn import datasets, linear_model\n",
    "from sklearn.metrics import mean_squared_error, r2_score\n",
    "from sklearn.model_selection import train_test_split\n",
    "pd.set_option('display.max_columns', 500)"
   ]
  },
  {
   "cell_type": "code",
   "execution_count": 2,
   "metadata": {
    "scrolled": true
   },
   "outputs": [
    {
     "data": {
      "text/html": [
       "<div>\n",
       "<style scoped>\n",
       "    .dataframe tbody tr th:only-of-type {\n",
       "        vertical-align: middle;\n",
       "    }\n",
       "\n",
       "    .dataframe tbody tr th {\n",
       "        vertical-align: top;\n",
       "    }\n",
       "\n",
       "    .dataframe thead th {\n",
       "        text-align: right;\n",
       "    }\n",
       "</style>\n",
       "<table border=\"1\" class=\"dataframe\">\n",
       "  <thead>\n",
       "    <tr style=\"text-align: right;\">\n",
       "      <th></th>\n",
       "      <th>property_type</th>\n",
       "      <th>lat</th>\n",
       "      <th>lon</th>\n",
       "      <th>price_aprox_usd</th>\n",
       "      <th>surface_total_in_m2</th>\n",
       "      <th>price_usd_per_m2</th>\n",
       "      <th>expenses</th>\n",
       "      <th>description</th>\n",
       "      <th>title</th>\n",
       "      <th>dummy_property_type__apartment</th>\n",
       "      <th>dummy_property_type__house</th>\n",
       "      <th>dummy_property_type__store</th>\n",
       "      <th>distSubte</th>\n",
       "      <th>distParque</th>\n",
       "      <th>dummy_pileta</th>\n",
       "      <th>dummy_balcon</th>\n",
       "      <th>dummy_patio</th>\n",
       "      <th>dummy_lavadero</th>\n",
       "      <th>dummy_cochera</th>\n",
       "      <th>dummy_luminoso</th>\n",
       "      <th>dummy_terraza</th>\n",
       "      <th>dummy_quincho</th>\n",
       "      <th>dummy_baulera</th>\n",
       "      <th>dummy_parrilla</th>\n",
       "      <th>dummy_premium</th>\n",
       "      <th>dummy_piscina</th>\n",
       "      <th>dummy_ascensor</th>\n",
       "      <th>dummy_profesional</th>\n",
       "      <th>dummy_alarma</th>\n",
       "      <th>dummy_amenities</th>\n",
       "      <th>dummy_calefaccion</th>\n",
       "      <th>dummy_pozo</th>\n",
       "      <th>dummy_gimnasio</th>\n",
       "      <th>dummy_aire acondicionado</th>\n",
       "      <th>dummy_spa</th>\n",
       "      <th>dummy_jacuzzi</th>\n",
       "      <th>dummy_cine</th>\n",
       "    </tr>\n",
       "  </thead>\n",
       "  <tbody>\n",
       "    <tr>\n",
       "      <th>0</th>\n",
       "      <td>apartment</td>\n",
       "      <td>-34.622211</td>\n",
       "      <td>-58.439128</td>\n",
       "      <td>110000</td>\n",
       "      <td>50</td>\n",
       "      <td>2200.000000</td>\n",
       "      <td>NaN</td>\n",
       "      <td>Departamento de 3 Ambientes al Contrafrente. S...</td>\n",
       "      <td>CABALLITO 3 AMB. EN VENTA Listo para escriturar</td>\n",
       "      <td>1</td>\n",
       "      <td>0</td>\n",
       "      <td>0</td>\n",
       "      <td>0.274837</td>\n",
       "      <td>0.257798</td>\n",
       "      <td>0</td>\n",
       "      <td>0</td>\n",
       "      <td>0</td>\n",
       "      <td>0</td>\n",
       "      <td>0</td>\n",
       "      <td>0</td>\n",
       "      <td>0</td>\n",
       "      <td>0</td>\n",
       "      <td>0</td>\n",
       "      <td>0</td>\n",
       "      <td>0</td>\n",
       "      <td>0</td>\n",
       "      <td>0</td>\n",
       "      <td>0</td>\n",
       "      <td>0</td>\n",
       "      <td>0</td>\n",
       "      <td>0</td>\n",
       "      <td>0</td>\n",
       "      <td>0</td>\n",
       "      <td>0</td>\n",
       "      <td>0</td>\n",
       "      <td>0</td>\n",
       "      <td>0</td>\n",
       "    </tr>\n",
       "    <tr>\n",
       "      <th>1</th>\n",
       "      <td>apartment</td>\n",
       "      <td>-34.623894</td>\n",
       "      <td>-58.446861</td>\n",
       "      <td>170500</td>\n",
       "      <td>100</td>\n",
       "      <td>1705.000000</td>\n",
       "      <td>NaN</td>\n",
       "      <td>14 exclusivos semi-pisos.Excelentes detalles d...</td>\n",
       "      <td>Semi-Pisos de gran categoria.</td>\n",
       "      <td>1</td>\n",
       "      <td>0</td>\n",
       "      <td>0</td>\n",
       "      <td>0.168539</td>\n",
       "      <td>0.471023</td>\n",
       "      <td>0</td>\n",
       "      <td>0</td>\n",
       "      <td>0</td>\n",
       "      <td>0</td>\n",
       "      <td>0</td>\n",
       "      <td>0</td>\n",
       "      <td>0</td>\n",
       "      <td>0</td>\n",
       "      <td>0</td>\n",
       "      <td>0</td>\n",
       "      <td>0</td>\n",
       "      <td>0</td>\n",
       "      <td>0</td>\n",
       "      <td>0</td>\n",
       "      <td>0</td>\n",
       "      <td>0</td>\n",
       "      <td>0</td>\n",
       "      <td>0</td>\n",
       "      <td>0</td>\n",
       "      <td>0</td>\n",
       "      <td>0</td>\n",
       "      <td>0</td>\n",
       "      <td>0</td>\n",
       "    </tr>\n",
       "    <tr>\n",
       "      <th>2</th>\n",
       "      <td>apartment</td>\n",
       "      <td>-34.620928</td>\n",
       "      <td>-58.445874</td>\n",
       "      <td>220410</td>\n",
       "      <td>81</td>\n",
       "      <td>2721.111111</td>\n",
       "      <td>NaN</td>\n",
       "      <td>Excelentes detalles de terminación, y diseño.G...</td>\n",
       "      <td>Excelencia y Calidad.</td>\n",
       "      <td>1</td>\n",
       "      <td>0</td>\n",
       "      <td>0</td>\n",
       "      <td>0.384946</td>\n",
       "      <td>0.137809</td>\n",
       "      <td>0</td>\n",
       "      <td>0</td>\n",
       "      <td>0</td>\n",
       "      <td>0</td>\n",
       "      <td>0</td>\n",
       "      <td>0</td>\n",
       "      <td>0</td>\n",
       "      <td>0</td>\n",
       "      <td>1</td>\n",
       "      <td>0</td>\n",
       "      <td>0</td>\n",
       "      <td>0</td>\n",
       "      <td>0</td>\n",
       "      <td>0</td>\n",
       "      <td>0</td>\n",
       "      <td>1</td>\n",
       "      <td>0</td>\n",
       "      <td>0</td>\n",
       "      <td>0</td>\n",
       "      <td>0</td>\n",
       "      <td>0</td>\n",
       "      <td>0</td>\n",
       "      <td>0</td>\n",
       "    </tr>\n",
       "    <tr>\n",
       "      <th>3</th>\n",
       "      <td>apartment</td>\n",
       "      <td>-34.620928</td>\n",
       "      <td>-58.445874</td>\n",
       "      <td>222780</td>\n",
       "      <td>81</td>\n",
       "      <td>2750.370370</td>\n",
       "      <td>NaN</td>\n",
       "      <td>Excelentes detalles de terminación, y diseño.G...</td>\n",
       "      <td>Excelencia y Calidad.</td>\n",
       "      <td>1</td>\n",
       "      <td>0</td>\n",
       "      <td>0</td>\n",
       "      <td>0.384946</td>\n",
       "      <td>0.137809</td>\n",
       "      <td>0</td>\n",
       "      <td>0</td>\n",
       "      <td>0</td>\n",
       "      <td>0</td>\n",
       "      <td>0</td>\n",
       "      <td>0</td>\n",
       "      <td>0</td>\n",
       "      <td>0</td>\n",
       "      <td>1</td>\n",
       "      <td>0</td>\n",
       "      <td>0</td>\n",
       "      <td>0</td>\n",
       "      <td>0</td>\n",
       "      <td>0</td>\n",
       "      <td>0</td>\n",
       "      <td>1</td>\n",
       "      <td>0</td>\n",
       "      <td>0</td>\n",
       "      <td>0</td>\n",
       "      <td>0</td>\n",
       "      <td>0</td>\n",
       "      <td>0</td>\n",
       "      <td>0</td>\n",
       "    </tr>\n",
       "    <tr>\n",
       "      <th>4</th>\n",
       "      <td>apartment</td>\n",
       "      <td>-34.628786</td>\n",
       "      <td>-58.427783</td>\n",
       "      <td>108000</td>\n",
       "      <td>70</td>\n",
       "      <td>1542.857143</td>\n",
       "      <td>NaN</td>\n",
       "      <td>Al frente muy luminoso.Living comedor, a balco...</td>\n",
       "      <td>Venta 3 Ambientes con dependencias</td>\n",
       "      <td>1</td>\n",
       "      <td>0</td>\n",
       "      <td>0</td>\n",
       "      <td>0.216992</td>\n",
       "      <td>1.185256</td>\n",
       "      <td>0</td>\n",
       "      <td>1</td>\n",
       "      <td>0</td>\n",
       "      <td>1</td>\n",
       "      <td>0</td>\n",
       "      <td>1</td>\n",
       "      <td>0</td>\n",
       "      <td>0</td>\n",
       "      <td>0</td>\n",
       "      <td>0</td>\n",
       "      <td>0</td>\n",
       "      <td>0</td>\n",
       "      <td>0</td>\n",
       "      <td>0</td>\n",
       "      <td>0</td>\n",
       "      <td>0</td>\n",
       "      <td>0</td>\n",
       "      <td>0</td>\n",
       "      <td>0</td>\n",
       "      <td>0</td>\n",
       "      <td>0</td>\n",
       "      <td>0</td>\n",
       "      <td>0</td>\n",
       "    </tr>\n",
       "  </tbody>\n",
       "</table>\n",
       "</div>"
      ],
      "text/plain": [
       "  property_type        lat        lon  price_aprox_usd  surface_total_in_m2  \\\n",
       "0     apartment -34.622211 -58.439128           110000                   50   \n",
       "1     apartment -34.623894 -58.446861           170500                  100   \n",
       "2     apartment -34.620928 -58.445874           220410                   81   \n",
       "3     apartment -34.620928 -58.445874           222780                   81   \n",
       "4     apartment -34.628786 -58.427783           108000                   70   \n",
       "\n",
       "   price_usd_per_m2  expenses  \\\n",
       "0       2200.000000       NaN   \n",
       "1       1705.000000       NaN   \n",
       "2       2721.111111       NaN   \n",
       "3       2750.370370       NaN   \n",
       "4       1542.857143       NaN   \n",
       "\n",
       "                                         description  \\\n",
       "0  Departamento de 3 Ambientes al Contrafrente. S...   \n",
       "1  14 exclusivos semi-pisos.Excelentes detalles d...   \n",
       "2  Excelentes detalles de terminación, y diseño.G...   \n",
       "3  Excelentes detalles de terminación, y diseño.G...   \n",
       "4  Al frente muy luminoso.Living comedor, a balco...   \n",
       "\n",
       "                                             title  \\\n",
       "0  CABALLITO 3 AMB. EN VENTA Listo para escriturar   \n",
       "1                    Semi-Pisos de gran categoria.   \n",
       "2                            Excelencia y Calidad.   \n",
       "3                            Excelencia y Calidad.   \n",
       "4               Venta 3 Ambientes con dependencias   \n",
       "\n",
       "   dummy_property_type__apartment  dummy_property_type__house  \\\n",
       "0                               1                           0   \n",
       "1                               1                           0   \n",
       "2                               1                           0   \n",
       "3                               1                           0   \n",
       "4                               1                           0   \n",
       "\n",
       "   dummy_property_type__store  distSubte  distParque  dummy_pileta  \\\n",
       "0                           0   0.274837    0.257798             0   \n",
       "1                           0   0.168539    0.471023             0   \n",
       "2                           0   0.384946    0.137809             0   \n",
       "3                           0   0.384946    0.137809             0   \n",
       "4                           0   0.216992    1.185256             0   \n",
       "\n",
       "   dummy_balcon  dummy_patio  dummy_lavadero  dummy_cochera  dummy_luminoso  \\\n",
       "0             0            0               0              0               0   \n",
       "1             0            0               0              0               0   \n",
       "2             0            0               0              0               0   \n",
       "3             0            0               0              0               0   \n",
       "4             1            0               1              0               1   \n",
       "\n",
       "   dummy_terraza  dummy_quincho  dummy_baulera  dummy_parrilla  dummy_premium  \\\n",
       "0              0              0              0               0              0   \n",
       "1              0              0              0               0              0   \n",
       "2              0              0              1               0              0   \n",
       "3              0              0              1               0              0   \n",
       "4              0              0              0               0              0   \n",
       "\n",
       "   dummy_piscina  dummy_ascensor  dummy_profesional  dummy_alarma  \\\n",
       "0              0               0                  0             0   \n",
       "1              0               0                  0             0   \n",
       "2              0               0                  0             0   \n",
       "3              0               0                  0             0   \n",
       "4              0               0                  0             0   \n",
       "\n",
       "   dummy_amenities  dummy_calefaccion  dummy_pozo  dummy_gimnasio  \\\n",
       "0                0                  0           0               0   \n",
       "1                0                  0           0               0   \n",
       "2                1                  0           0               0   \n",
       "3                1                  0           0               0   \n",
       "4                0                  0           0               0   \n",
       "\n",
       "   dummy_aire acondicionado  dummy_spa  dummy_jacuzzi  dummy_cine  \n",
       "0                         0          0              0           0  \n",
       "1                         0          0              0           0  \n",
       "2                         0          0              0           0  \n",
       "3                         0          0              0           0  \n",
       "4                         0          0              0           0  "
      ]
     },
     "execution_count": 2,
     "metadata": {},
     "output_type": "execute_result"
    }
   ],
   "source": [
    "df = pd.read_csv('properati_caballito_train.csv')\n",
    "cols = ['Unnamed: 0', 'Unnamed: 0.1','place_name', 'precio_m2_usd']\n",
    "df.drop(cols, axis=1, inplace=True)\n",
    "df.head(5)"
   ]
  },
  {
   "cell_type": "code",
   "execution_count": 3,
   "metadata": {
    "scrolled": true
   },
   "outputs": [
    {
     "name": "stdout",
     "output_type": "stream",
     "text": [
      "<class 'pandas.core.frame.DataFrame'>\n",
      "RangeIndex: 1563 entries, 0 to 1562\n",
      "Data columns (total 37 columns):\n",
      "property_type                     1563 non-null object\n",
      "lat                               1410 non-null float64\n",
      "lon                               1410 non-null float64\n",
      "price_aprox_usd                   1563 non-null int64\n",
      "surface_total_in_m2               1563 non-null int64\n",
      "price_usd_per_m2                  1563 non-null float64\n",
      "expenses                          299 non-null float64\n",
      "description                       1563 non-null object\n",
      "title                             1563 non-null object\n",
      "dummy_property_type__apartment    1563 non-null int64\n",
      "dummy_property_type__house        1563 non-null int64\n",
      "dummy_property_type__store        1563 non-null int64\n",
      "distSubte                         1410 non-null float64\n",
      "distParque                        1410 non-null float64\n",
      "dummy_pileta                      1563 non-null int64\n",
      "dummy_balcon                      1563 non-null int64\n",
      "dummy_patio                       1563 non-null int64\n",
      "dummy_lavadero                    1563 non-null int64\n",
      "dummy_cochera                     1563 non-null int64\n",
      "dummy_luminoso                    1563 non-null int64\n",
      "dummy_terraza                     1563 non-null int64\n",
      "dummy_quincho                     1563 non-null int64\n",
      "dummy_baulera                     1563 non-null int64\n",
      "dummy_parrilla                    1563 non-null int64\n",
      "dummy_premium                     1563 non-null int64\n",
      "dummy_piscina                     1563 non-null int64\n",
      "dummy_ascensor                    1563 non-null int64\n",
      "dummy_profesional                 1563 non-null int64\n",
      "dummy_alarma                      1563 non-null int64\n",
      "dummy_amenities                   1563 non-null int64\n",
      "dummy_calefaccion                 1563 non-null int64\n",
      "dummy_pozo                        1563 non-null int64\n",
      "dummy_gimnasio                    1563 non-null int64\n",
      "dummy_aire acondicionado          1563 non-null int64\n",
      "dummy_spa                         1563 non-null int64\n",
      "dummy_jacuzzi                     1563 non-null int64\n",
      "dummy_cine                        1563 non-null int64\n",
      "dtypes: float64(6), int64(28), object(3)\n",
      "memory usage: 451.9+ KB\n",
      "None\n"
     ]
    }
   ],
   "source": [
    "print(df.info())"
   ]
  },
  {
   "cell_type": "code",
   "execution_count": 4,
   "metadata": {
    "scrolled": false
   },
   "outputs": [
    {
     "data": {
      "text/html": [
       "<div>\n",
       "<style scoped>\n",
       "    .dataframe tbody tr th:only-of-type {\n",
       "        vertical-align: middle;\n",
       "    }\n",
       "\n",
       "    .dataframe tbody tr th {\n",
       "        vertical-align: top;\n",
       "    }\n",
       "\n",
       "    .dataframe thead th {\n",
       "        text-align: right;\n",
       "    }\n",
       "</style>\n",
       "<table border=\"1\" class=\"dataframe\">\n",
       "  <thead>\n",
       "    <tr style=\"text-align: right;\">\n",
       "      <th></th>\n",
       "      <th>lat</th>\n",
       "      <th>lon</th>\n",
       "      <th>price_aprox_usd</th>\n",
       "      <th>surface_total_in_m2</th>\n",
       "      <th>price_usd_per_m2</th>\n",
       "      <th>expenses</th>\n",
       "      <th>dummy_property_type__apartment</th>\n",
       "      <th>dummy_property_type__house</th>\n",
       "      <th>dummy_property_type__store</th>\n",
       "      <th>distSubte</th>\n",
       "      <th>distParque</th>\n",
       "      <th>dummy_pileta</th>\n",
       "      <th>dummy_balcon</th>\n",
       "      <th>dummy_patio</th>\n",
       "      <th>dummy_lavadero</th>\n",
       "      <th>dummy_cochera</th>\n",
       "      <th>dummy_luminoso</th>\n",
       "      <th>dummy_terraza</th>\n",
       "      <th>dummy_quincho</th>\n",
       "      <th>dummy_baulera</th>\n",
       "      <th>dummy_parrilla</th>\n",
       "      <th>dummy_premium</th>\n",
       "      <th>dummy_piscina</th>\n",
       "      <th>dummy_ascensor</th>\n",
       "      <th>dummy_profesional</th>\n",
       "      <th>dummy_alarma</th>\n",
       "      <th>dummy_amenities</th>\n",
       "      <th>dummy_calefaccion</th>\n",
       "      <th>dummy_pozo</th>\n",
       "      <th>dummy_gimnasio</th>\n",
       "      <th>dummy_aire acondicionado</th>\n",
       "      <th>dummy_spa</th>\n",
       "      <th>dummy_jacuzzi</th>\n",
       "      <th>dummy_cine</th>\n",
       "    </tr>\n",
       "  </thead>\n",
       "  <tbody>\n",
       "    <tr>\n",
       "      <th>count</th>\n",
       "      <td>1410.000000</td>\n",
       "      <td>1410.000000</td>\n",
       "      <td>1563.000000</td>\n",
       "      <td>1563.000000</td>\n",
       "      <td>1563.000000</td>\n",
       "      <td>299.000000</td>\n",
       "      <td>1563.000000</td>\n",
       "      <td>1563.000000</td>\n",
       "      <td>1563.000000</td>\n",
       "      <td>1410.000000</td>\n",
       "      <td>1410.000000</td>\n",
       "      <td>1563.000000</td>\n",
       "      <td>1563.000000</td>\n",
       "      <td>1563.000000</td>\n",
       "      <td>1563.000000</td>\n",
       "      <td>1563.000000</td>\n",
       "      <td>1563.000000</td>\n",
       "      <td>1563.000000</td>\n",
       "      <td>1563.000000</td>\n",
       "      <td>1563.000000</td>\n",
       "      <td>1563.000000</td>\n",
       "      <td>1563.000000</td>\n",
       "      <td>1563.000000</td>\n",
       "      <td>1563.000000</td>\n",
       "      <td>1563.000000</td>\n",
       "      <td>1563.000000</td>\n",
       "      <td>1563.000000</td>\n",
       "      <td>1563.000000</td>\n",
       "      <td>1563.000000</td>\n",
       "      <td>1563.000000</td>\n",
       "      <td>1563.000000</td>\n",
       "      <td>1563.000000</td>\n",
       "      <td>1563.000000</td>\n",
       "      <td>1563.000000</td>\n",
       "    </tr>\n",
       "    <tr>\n",
       "      <th>mean</th>\n",
       "      <td>-34.618243</td>\n",
       "      <td>-58.443679</td>\n",
       "      <td>181018.971849</td>\n",
       "      <td>81.376839</td>\n",
       "      <td>2443.464926</td>\n",
       "      <td>2511.224080</td>\n",
       "      <td>0.914267</td>\n",
       "      <td>0.035189</td>\n",
       "      <td>0.015995</td>\n",
       "      <td>0.759346</td>\n",
       "      <td>0.622930</td>\n",
       "      <td>0.027511</td>\n",
       "      <td>0.103647</td>\n",
       "      <td>0.107486</td>\n",
       "      <td>0.179782</td>\n",
       "      <td>0.189379</td>\n",
       "      <td>0.159949</td>\n",
       "      <td>0.202175</td>\n",
       "      <td>0.037108</td>\n",
       "      <td>0.098528</td>\n",
       "      <td>0.241843</td>\n",
       "      <td>0.003199</td>\n",
       "      <td>0.114523</td>\n",
       "      <td>0.065259</td>\n",
       "      <td>0.161868</td>\n",
       "      <td>0.002559</td>\n",
       "      <td>0.107486</td>\n",
       "      <td>0.046065</td>\n",
       "      <td>0.047345</td>\n",
       "      <td>0.035189</td>\n",
       "      <td>0.090211</td>\n",
       "      <td>0.166987</td>\n",
       "      <td>0.051184</td>\n",
       "      <td>0.049264</td>\n",
       "    </tr>\n",
       "    <tr>\n",
       "      <th>std</th>\n",
       "      <td>0.007921</td>\n",
       "      <td>0.014752</td>\n",
       "      <td>116754.295874</td>\n",
       "      <td>71.417695</td>\n",
       "      <td>1160.808475</td>\n",
       "      <td>2443.989407</td>\n",
       "      <td>0.280058</td>\n",
       "      <td>0.184316</td>\n",
       "      <td>0.125496</td>\n",
       "      <td>0.923281</td>\n",
       "      <td>0.936343</td>\n",
       "      <td>0.163620</td>\n",
       "      <td>0.304899</td>\n",
       "      <td>0.309829</td>\n",
       "      <td>0.384129</td>\n",
       "      <td>0.391935</td>\n",
       "      <td>0.366676</td>\n",
       "      <td>0.401751</td>\n",
       "      <td>0.189087</td>\n",
       "      <td>0.298123</td>\n",
       "      <td>0.428336</td>\n",
       "      <td>0.056487</td>\n",
       "      <td>0.318548</td>\n",
       "      <td>0.247062</td>\n",
       "      <td>0.368448</td>\n",
       "      <td>0.050540</td>\n",
       "      <td>0.309829</td>\n",
       "      <td>0.209694</td>\n",
       "      <td>0.212443</td>\n",
       "      <td>0.184316</td>\n",
       "      <td>0.286576</td>\n",
       "      <td>0.373083</td>\n",
       "      <td>0.220443</td>\n",
       "      <td>0.216488</td>\n",
       "    </tr>\n",
       "    <tr>\n",
       "      <th>min</th>\n",
       "      <td>-34.641024</td>\n",
       "      <td>-58.538654</td>\n",
       "      <td>11706.000000</td>\n",
       "      <td>20.000000</td>\n",
       "      <td>162.588056</td>\n",
       "      <td>1.000000</td>\n",
       "      <td>0.000000</td>\n",
       "      <td>0.000000</td>\n",
       "      <td>0.000000</td>\n",
       "      <td>0.002079</td>\n",
       "      <td>0.000900</td>\n",
       "      <td>0.000000</td>\n",
       "      <td>0.000000</td>\n",
       "      <td>0.000000</td>\n",
       "      <td>0.000000</td>\n",
       "      <td>0.000000</td>\n",
       "      <td>0.000000</td>\n",
       "      <td>0.000000</td>\n",
       "      <td>0.000000</td>\n",
       "      <td>0.000000</td>\n",
       "      <td>0.000000</td>\n",
       "      <td>0.000000</td>\n",
       "      <td>0.000000</td>\n",
       "      <td>0.000000</td>\n",
       "      <td>0.000000</td>\n",
       "      <td>0.000000</td>\n",
       "      <td>0.000000</td>\n",
       "      <td>0.000000</td>\n",
       "      <td>0.000000</td>\n",
       "      <td>0.000000</td>\n",
       "      <td>0.000000</td>\n",
       "      <td>0.000000</td>\n",
       "      <td>0.000000</td>\n",
       "      <td>0.000000</td>\n",
       "    </tr>\n",
       "    <tr>\n",
       "      <th>25%</th>\n",
       "      <td>-34.623922</td>\n",
       "      <td>-58.452102</td>\n",
       "      <td>102000.000000</td>\n",
       "      <td>43.000000</td>\n",
       "      <td>2079.796265</td>\n",
       "      <td>1000.000000</td>\n",
       "      <td>1.000000</td>\n",
       "      <td>0.000000</td>\n",
       "      <td>0.000000</td>\n",
       "      <td>0.308180</td>\n",
       "      <td>0.209750</td>\n",
       "      <td>0.000000</td>\n",
       "      <td>0.000000</td>\n",
       "      <td>0.000000</td>\n",
       "      <td>0.000000</td>\n",
       "      <td>0.000000</td>\n",
       "      <td>0.000000</td>\n",
       "      <td>0.000000</td>\n",
       "      <td>0.000000</td>\n",
       "      <td>0.000000</td>\n",
       "      <td>0.000000</td>\n",
       "      <td>0.000000</td>\n",
       "      <td>0.000000</td>\n",
       "      <td>0.000000</td>\n",
       "      <td>0.000000</td>\n",
       "      <td>0.000000</td>\n",
       "      <td>0.000000</td>\n",
       "      <td>0.000000</td>\n",
       "      <td>0.000000</td>\n",
       "      <td>0.000000</td>\n",
       "      <td>0.000000</td>\n",
       "      <td>0.000000</td>\n",
       "      <td>0.000000</td>\n",
       "      <td>0.000000</td>\n",
       "    </tr>\n",
       "    <tr>\n",
       "      <th>50%</th>\n",
       "      <td>-34.618648</td>\n",
       "      <td>-58.443922</td>\n",
       "      <td>138873.000000</td>\n",
       "      <td>57.000000</td>\n",
       "      <td>2371.794872</td>\n",
       "      <td>1800.000000</td>\n",
       "      <td>1.000000</td>\n",
       "      <td>0.000000</td>\n",
       "      <td>0.000000</td>\n",
       "      <td>0.480409</td>\n",
       "      <td>0.435548</td>\n",
       "      <td>0.000000</td>\n",
       "      <td>0.000000</td>\n",
       "      <td>0.000000</td>\n",
       "      <td>0.000000</td>\n",
       "      <td>0.000000</td>\n",
       "      <td>0.000000</td>\n",
       "      <td>0.000000</td>\n",
       "      <td>0.000000</td>\n",
       "      <td>0.000000</td>\n",
       "      <td>0.000000</td>\n",
       "      <td>0.000000</td>\n",
       "      <td>0.000000</td>\n",
       "      <td>0.000000</td>\n",
       "      <td>0.000000</td>\n",
       "      <td>0.000000</td>\n",
       "      <td>0.000000</td>\n",
       "      <td>0.000000</td>\n",
       "      <td>0.000000</td>\n",
       "      <td>0.000000</td>\n",
       "      <td>0.000000</td>\n",
       "      <td>0.000000</td>\n",
       "      <td>0.000000</td>\n",
       "      <td>0.000000</td>\n",
       "    </tr>\n",
       "    <tr>\n",
       "      <th>75%</th>\n",
       "      <td>-34.613141</td>\n",
       "      <td>-58.437834</td>\n",
       "      <td>228805.000000</td>\n",
       "      <td>94.000000</td>\n",
       "      <td>2692.307692</td>\n",
       "      <td>3100.000000</td>\n",
       "      <td>1.000000</td>\n",
       "      <td>0.000000</td>\n",
       "      <td>0.000000</td>\n",
       "      <td>1.076836</td>\n",
       "      <td>0.829297</td>\n",
       "      <td>0.000000</td>\n",
       "      <td>0.000000</td>\n",
       "      <td>0.000000</td>\n",
       "      <td>0.000000</td>\n",
       "      <td>0.000000</td>\n",
       "      <td>0.000000</td>\n",
       "      <td>0.000000</td>\n",
       "      <td>0.000000</td>\n",
       "      <td>0.000000</td>\n",
       "      <td>0.000000</td>\n",
       "      <td>0.000000</td>\n",
       "      <td>0.000000</td>\n",
       "      <td>0.000000</td>\n",
       "      <td>0.000000</td>\n",
       "      <td>0.000000</td>\n",
       "      <td>0.000000</td>\n",
       "      <td>0.000000</td>\n",
       "      <td>0.000000</td>\n",
       "      <td>0.000000</td>\n",
       "      <td>0.000000</td>\n",
       "      <td>0.000000</td>\n",
       "      <td>0.000000</td>\n",
       "      <td>0.000000</td>\n",
       "    </tr>\n",
       "    <tr>\n",
       "      <th>max</th>\n",
       "      <td>-34.577168</td>\n",
       "      <td>-58.354956</td>\n",
       "      <td>900000.000000</td>\n",
       "      <td>853.000000</td>\n",
       "      <td>29500.000000</td>\n",
       "      <td>13800.000000</td>\n",
       "      <td>1.000000</td>\n",
       "      <td>1.000000</td>\n",
       "      <td>1.000000</td>\n",
       "      <td>8.496251</td>\n",
       "      <td>8.348926</td>\n",
       "      <td>1.000000</td>\n",
       "      <td>1.000000</td>\n",
       "      <td>1.000000</td>\n",
       "      <td>1.000000</td>\n",
       "      <td>1.000000</td>\n",
       "      <td>1.000000</td>\n",
       "      <td>1.000000</td>\n",
       "      <td>1.000000</td>\n",
       "      <td>1.000000</td>\n",
       "      <td>1.000000</td>\n",
       "      <td>1.000000</td>\n",
       "      <td>1.000000</td>\n",
       "      <td>1.000000</td>\n",
       "      <td>1.000000</td>\n",
       "      <td>1.000000</td>\n",
       "      <td>1.000000</td>\n",
       "      <td>1.000000</td>\n",
       "      <td>1.000000</td>\n",
       "      <td>1.000000</td>\n",
       "      <td>1.000000</td>\n",
       "      <td>1.000000</td>\n",
       "      <td>1.000000</td>\n",
       "      <td>1.000000</td>\n",
       "    </tr>\n",
       "  </tbody>\n",
       "</table>\n",
       "</div>"
      ],
      "text/plain": [
       "               lat          lon  price_aprox_usd  surface_total_in_m2  \\\n",
       "count  1410.000000  1410.000000      1563.000000          1563.000000   \n",
       "mean    -34.618243   -58.443679    181018.971849            81.376839   \n",
       "std       0.007921     0.014752    116754.295874            71.417695   \n",
       "min     -34.641024   -58.538654     11706.000000            20.000000   \n",
       "25%     -34.623922   -58.452102    102000.000000            43.000000   \n",
       "50%     -34.618648   -58.443922    138873.000000            57.000000   \n",
       "75%     -34.613141   -58.437834    228805.000000            94.000000   \n",
       "max     -34.577168   -58.354956    900000.000000           853.000000   \n",
       "\n",
       "       price_usd_per_m2      expenses  dummy_property_type__apartment  \\\n",
       "count       1563.000000    299.000000                     1563.000000   \n",
       "mean        2443.464926   2511.224080                        0.914267   \n",
       "std         1160.808475   2443.989407                        0.280058   \n",
       "min          162.588056      1.000000                        0.000000   \n",
       "25%         2079.796265   1000.000000                        1.000000   \n",
       "50%         2371.794872   1800.000000                        1.000000   \n",
       "75%         2692.307692   3100.000000                        1.000000   \n",
       "max        29500.000000  13800.000000                        1.000000   \n",
       "\n",
       "       dummy_property_type__house  dummy_property_type__store    distSubte  \\\n",
       "count                 1563.000000                 1563.000000  1410.000000   \n",
       "mean                     0.035189                    0.015995     0.759346   \n",
       "std                      0.184316                    0.125496     0.923281   \n",
       "min                      0.000000                    0.000000     0.002079   \n",
       "25%                      0.000000                    0.000000     0.308180   \n",
       "50%                      0.000000                    0.000000     0.480409   \n",
       "75%                      0.000000                    0.000000     1.076836   \n",
       "max                      1.000000                    1.000000     8.496251   \n",
       "\n",
       "        distParque  dummy_pileta  dummy_balcon  dummy_patio  dummy_lavadero  \\\n",
       "count  1410.000000   1563.000000   1563.000000  1563.000000     1563.000000   \n",
       "mean      0.622930      0.027511      0.103647     0.107486        0.179782   \n",
       "std       0.936343      0.163620      0.304899     0.309829        0.384129   \n",
       "min       0.000900      0.000000      0.000000     0.000000        0.000000   \n",
       "25%       0.209750      0.000000      0.000000     0.000000        0.000000   \n",
       "50%       0.435548      0.000000      0.000000     0.000000        0.000000   \n",
       "75%       0.829297      0.000000      0.000000     0.000000        0.000000   \n",
       "max       8.348926      1.000000      1.000000     1.000000        1.000000   \n",
       "\n",
       "       dummy_cochera  dummy_luminoso  dummy_terraza  dummy_quincho  \\\n",
       "count    1563.000000     1563.000000    1563.000000    1563.000000   \n",
       "mean        0.189379        0.159949       0.202175       0.037108   \n",
       "std         0.391935        0.366676       0.401751       0.189087   \n",
       "min         0.000000        0.000000       0.000000       0.000000   \n",
       "25%         0.000000        0.000000       0.000000       0.000000   \n",
       "50%         0.000000        0.000000       0.000000       0.000000   \n",
       "75%         0.000000        0.000000       0.000000       0.000000   \n",
       "max         1.000000        1.000000       1.000000       1.000000   \n",
       "\n",
       "       dummy_baulera  dummy_parrilla  dummy_premium  dummy_piscina  \\\n",
       "count    1563.000000     1563.000000    1563.000000    1563.000000   \n",
       "mean        0.098528        0.241843       0.003199       0.114523   \n",
       "std         0.298123        0.428336       0.056487       0.318548   \n",
       "min         0.000000        0.000000       0.000000       0.000000   \n",
       "25%         0.000000        0.000000       0.000000       0.000000   \n",
       "50%         0.000000        0.000000       0.000000       0.000000   \n",
       "75%         0.000000        0.000000       0.000000       0.000000   \n",
       "max         1.000000        1.000000       1.000000       1.000000   \n",
       "\n",
       "       dummy_ascensor  dummy_profesional  dummy_alarma  dummy_amenities  \\\n",
       "count     1563.000000        1563.000000   1563.000000      1563.000000   \n",
       "mean         0.065259           0.161868      0.002559         0.107486   \n",
       "std          0.247062           0.368448      0.050540         0.309829   \n",
       "min          0.000000           0.000000      0.000000         0.000000   \n",
       "25%          0.000000           0.000000      0.000000         0.000000   \n",
       "50%          0.000000           0.000000      0.000000         0.000000   \n",
       "75%          0.000000           0.000000      0.000000         0.000000   \n",
       "max          1.000000           1.000000      1.000000         1.000000   \n",
       "\n",
       "       dummy_calefaccion   dummy_pozo  dummy_gimnasio  \\\n",
       "count        1563.000000  1563.000000     1563.000000   \n",
       "mean            0.046065     0.047345        0.035189   \n",
       "std             0.209694     0.212443        0.184316   \n",
       "min             0.000000     0.000000        0.000000   \n",
       "25%             0.000000     0.000000        0.000000   \n",
       "50%             0.000000     0.000000        0.000000   \n",
       "75%             0.000000     0.000000        0.000000   \n",
       "max             1.000000     1.000000        1.000000   \n",
       "\n",
       "       dummy_aire acondicionado    dummy_spa  dummy_jacuzzi   dummy_cine  \n",
       "count               1563.000000  1563.000000    1563.000000  1563.000000  \n",
       "mean                   0.090211     0.166987       0.051184     0.049264  \n",
       "std                    0.286576     0.373083       0.220443     0.216488  \n",
       "min                    0.000000     0.000000       0.000000     0.000000  \n",
       "25%                    0.000000     0.000000       0.000000     0.000000  \n",
       "50%                    0.000000     0.000000       0.000000     0.000000  \n",
       "75%                    0.000000     0.000000       0.000000     0.000000  \n",
       "max                    1.000000     1.000000       1.000000     1.000000  "
      ]
     },
     "execution_count": 4,
     "metadata": {},
     "output_type": "execute_result"
    }
   ],
   "source": [
    "df.describe()"
   ]
  },
  {
   "cell_type": "code",
   "execution_count": 5,
   "metadata": {},
   "outputs": [],
   "source": [
    "#sns.lmplot(x=\"surface_total_in_m2\", y=\"price_aprox_usd\", data = df, hue = 'price_usd_per_m2', height=10, fit_reg=False);"
   ]
  },
  {
   "cell_type": "code",
   "execution_count": 6,
   "metadata": {
    "scrolled": false
   },
   "outputs": [
    {
     "data": {
      "image/png": "[encoded data removed]",
      "text/plain": [
       "<Figure size 432x288 with 1 Axes>"
      ]
     },
     "metadata": {},
     "output_type": "display_data"
    }
   ],
   "source": [
    "sns.distplot(df.loc[:,'price_usd_per_m2'], kde=False, bins= 100);\n",
    "plt.axvline(0, color=\"k\", linestyle=\"--\");"
   ]
  },
  {
   "cell_type": "code",
   "execution_count": 7,
   "metadata": {},
   "outputs": [
    {
     "data": {
      "image/png": "[encoded data removed]",
      "text/plain": [
       "<Figure size 432x288 with 1 Axes>"
      ]
     },
     "metadata": {},
     "output_type": "display_data"
    }
   ],
   "source": [
    "sns.distplot(df.loc[:,'surface_total_in_m2'], kde=False, bins= 100);\n",
    "plt.axvline(0, color=\"k\", linestyle=\"--\");"
   ]
  },
  {
   "cell_type": "code",
   "execution_count": 8,
   "metadata": {
    "scrolled": false
   },
   "outputs": [
    {
     "name": "stdout",
     "output_type": "stream",
     "text": [
      "(1563, 37)\n"
     ]
    }
   ],
   "source": [
    "#df.isnull().sum()\n",
    "print(df.shape)"
   ]
  },
  {
   "cell_type": "code",
   "execution_count": 9,
   "metadata": {
    "scrolled": true
   },
   "outputs": [],
   "source": [
    "#plt.figure(figsize=(10,10))\n",
    "#sns.heatmap(df.corr());"
   ]
  },
  {
   "cell_type": "code",
   "execution_count": 10,
   "metadata": {
    "scrolled": true
   },
   "outputs": [],
   "source": [
    "k = 36\n",
    "cols = df.corr().nlargest(k,'price_usd_per_m2')['price_usd_per_m2'].index\n",
    "cm = df[cols].corr()\n",
    "#plt.figure(figsize=(20,15))\n",
    "#sns.heatmap(cm, annot=True, cmap = 'OrRd');"
   ]
  },
  {
   "cell_type": "markdown",
   "metadata": {},
   "source": [
    "## DF MINI"
   ]
  },
  {
   "cell_type": "code",
   "execution_count": 11,
   "metadata": {
    "scrolled": true
   },
   "outputs": [],
   "source": [
    "df_mini_Y = df.dropna()"
   ]
  },
  {
   "cell_type": "code",
   "execution_count": 12,
   "metadata": {},
   "outputs": [
    {
     "name": "stdout",
     "output_type": "stream",
     "text": [
      "(258, 37)\n"
     ]
    }
   ],
   "source": [
    "#df_mini_Y.isna().sum()\n",
    "print(df_mini_Y.shape)"
   ]
  },
  {
   "cell_type": "code",
   "execution_count": 13,
   "metadata": {
    "scrolled": true
   },
   "outputs": [
    {
     "data": {
      "text/plain": [
       "Index(['lat', 'lon', 'surface_total_in_m2', 'expenses',\n",
       "       'dummy_property_type__apartment', 'dummy_property_type__house',\n",
       "       'dummy_property_type__store', 'distSubte', 'distParque', 'dummy_pileta',\n",
       "       'dummy_balcon', 'dummy_patio', 'dummy_lavadero', 'dummy_cochera',\n",
       "       'dummy_luminoso', 'dummy_terraza', 'dummy_quincho', 'dummy_baulera',\n",
       "       'dummy_parrilla', 'dummy_premium', 'dummy_piscina', 'dummy_ascensor',\n",
       "       'dummy_profesional', 'dummy_alarma', 'dummy_amenities',\n",
       "       'dummy_calefaccion', 'dummy_pozo', 'dummy_gimnasio',\n",
       "       'dummy_aire acondicionado', 'dummy_spa', 'dummy_jacuzzi', 'dummy_cine'],\n",
       "      dtype='object')"
      ]
     },
     "execution_count": 13,
     "metadata": {},
     "output_type": "execute_result"
    }
   ],
   "source": [
    "cols = ['property_type','price_aprox_usd',\n",
    "       'price_usd_per_m2', 'description', 'title']\n",
    "df_mini_X = df_mini_Y.drop(cols, axis=1)\n",
    "df_mini_X.columns"
   ]
  },
  {
   "cell_type": "code",
   "execution_count": 14,
   "metadata": {},
   "outputs": [],
   "source": [
    "k = 36\n",
    "cols = df_mini_Y.corr().nlargest(k,'price_usd_per_m2')['price_usd_per_m2'].index\n",
    "cm = df_mini_Y[cols].corr()\n",
    "#plt.figure(figsize=(20,15))\n",
    "#sns.heatmap(cm, annot=True, cmap = 'OrRd');"
   ]
  },
  {
   "cell_type": "code",
   "execution_count": 15,
   "metadata": {},
   "outputs": [
    {
     "name": "stdout",
     "output_type": "stream",
     "text": [
      "[-2.10493826e+03 -6.18545840e+03 -4.53451091e+00  1.25106800e-01\n",
      "  4.38329381e+02  4.20641300e-11  2.63753464e-11 -3.97214016e+01\n",
      "  1.68452282e+02 -4.03739566e+02 -1.30042923e+02 -2.15915668e+02\n",
      "  5.74326208e+00  3.26214051e+02 -7.47475213e+01 -1.11152998e+01\n",
      " -3.34348013e+02 -2.29227310e+02 -5.03920575e+01 -3.41060513e-13\n",
      "  5.30902948e+02 -1.23177398e+02  2.58095009e+01 -3.99530134e+01\n",
      "  4.10261079e+02  8.84286401e+01 -2.41151397e+02  7.84928550e+01\n",
      "  3.66657576e+02  2.33756154e+01 -2.73455337e+02 -3.53366441e+02]\n",
      "-432472.3793998154\n"
     ]
    }
   ],
   "source": [
    "# Seleccionar modelo\n",
    "from sklearn.linear_model import LinearRegression\n",
    "# Elegir hiperparámetros\n",
    "model = LinearRegression(fit_intercept=True)\n",
    "# Preparar los datos en una matriz de features\n",
    "# Crear X e y\n",
    "X = df_mini_X #2 dimensiones\n",
    "y = df_mini_Y['price_usd_per_m2'] #1 dimensión\n",
    "\n",
    "# Split entrenamiento / testeo para CV\n",
    "from sklearn.model_selection import train_test_split\n",
    "Xtrain, Xtest, ytrain, ytest = train_test_split(X, y, random_state=1)\n",
    "#Ajustar el modelo a los datos\n",
    "model.fit(Xtrain, ytrain)\n",
    "print (model.coef_)\n",
    "print (model.intercept_)"
   ]
  },
  {
   "cell_type": "code",
   "execution_count": 16,
   "metadata": {},
   "outputs": [
    {
     "name": "stdout",
     "output_type": "stream",
     "text": [
      "MAE: 274.4978157838562\n",
      "MSE: 133986.07603778914\n",
      "RMSE: 366.0410851773188\n",
      "R2: 0.5449922066721758\n"
     ]
    }
   ],
   "source": [
    "#Evaluar\n",
    "ypred = model.predict(Xtest)\n",
    "from sklearn import metrics\n",
    "print ('MAE:', metrics.mean_absolute_error(ytest, ypred))\n",
    "print ('MSE:', metrics.mean_squared_error(ytest, ypred))\n",
    "print ('RMSE:', np.sqrt(metrics.mean_squared_error(ytest, ypred)))\n",
    "print ('R2:', metrics.r2_score(ytest, ypred))"
   ]
  },
  {
   "cell_type": "code",
   "execution_count": 17,
   "metadata": {
    "scrolled": true
   },
   "outputs": [
    {
     "data": {
      "image/png": "[encoded data removed]",
      "text/plain": [
       "<Figure size 432x288 with 1 Axes>"
      ]
     },
     "metadata": {},
     "output_type": "display_data"
    },
    {
     "name": "stdout",
     "output_type": "stream",
     "text": [
      "MSE: 140749.91718754213\n",
      "                                           0\n",
      "lat                            -2.144757e+03\n",
      "lon                            -7.624491e+03\n",
      "surface_total_in_m2            -4.513563e+00\n",
      "expenses                        1.249552e-01\n",
      "dummy_property_type__apartment  5.179687e+02\n",
      "dummy_property_type__house     -6.571099e-11\n",
      "dummy_property_type__store     -6.679102e-12\n",
      "distSubte                      -2.645136e+01\n",
      "distParque                      1.983855e+02\n",
      "dummy_pileta                   -7.936071e+01\n",
      "dummy_balcon                   -1.440814e+02\n",
      "dummy_patio                    -2.360417e+02\n",
      "dummy_lavadero                 -1.242419e+01\n",
      "dummy_cochera                   2.861402e+02\n",
      "dummy_luminoso                 -1.048497e+02\n",
      "dummy_terraza                   9.401239e+01\n",
      "dummy_quincho                  -3.617033e+02\n",
      "dummy_baulera                  -2.099887e+02\n",
      "dummy_parrilla                 -8.679386e+01\n",
      "dummy_premium                   3.183231e-12\n",
      "dummy_piscina                   4.526220e+02\n",
      "dummy_ascensor                 -3.218751e+01\n",
      "dummy_profesional               2.064557e+00\n",
      "dummy_alarma                   -1.547448e+02\n",
      "dummy_amenities                 3.536106e+02\n",
      "dummy_calefaccion              -1.187873e+01\n",
      "dummy_pozo                     -4.840941e+02\n",
      "dummy_gimnasio                  2.954246e+02\n",
      "dummy_aire acondicionado        3.249266e+02\n",
      "dummy_spa                       6.843931e+01\n",
      "dummy_jacuzzi                  -4.954095e+02\n",
      "dummy_cine                     -4.247566e+02\n",
      "Intecept                       -5.180534e+05\n",
      "R2                              4.793302e-01\n"
     ]
    }
   ],
   "source": [
    "def sum_mod(model, X):\n",
    "    a = pd.DataFrame(model.coef_ , X.columns.values)\n",
    "    a = a.append(pd.DataFrame([model.intercept_, model.score(X, y)], index=['Intecept','R2']))\n",
    "    return(a)\n",
    "\n",
    "lm = linear_model.LinearRegression()\n",
    "X = df_mini_X\n",
    "y = df_mini_Y['price_usd_per_m2']\n",
    "model = lm.fit(X, y)\n",
    "predictions = model.predict(X)\n",
    "\n",
    "# Plot the model\n",
    "plt.plot(y,y, '-.',c='grey')\n",
    "plt.scatter(predictions, y, s=30, c='r', marker='+', zorder=10)\n",
    "plt.xlabel(\"Predicted Values from all values\")\n",
    "plt.ylabel(\"Actual Values\")\n",
    "plt.show()\n",
    "print (\"MSE:\", mean_squared_error(y, predictions))\n",
    "print (sum_mod(model, X))"
   ]
  },
  {
   "cell_type": "code",
   "execution_count": 18,
   "metadata": {},
   "outputs": [],
   "source": [
    "cols = ['property_type','price_aprox_usd',\n",
    "       'price_usd_per_m2', 'description', 'title','expenses']\n",
    "df_mini_X_sin_expensas = df_mini_Y.drop(cols, axis=1)"
   ]
  },
  {
   "cell_type": "code",
   "execution_count": 19,
   "metadata": {},
   "outputs": [
    {
     "name": "stdout",
     "output_type": "stream",
     "text": [
      "[-4.48893842e+03 -2.55874425e+01 -1.15240931e+00  7.21042232e+02\n",
      " -5.11590770e-13  2.55795385e-13 -7.11051845e+01  1.16434967e+02\n",
      " -1.04895969e+01 -8.30539304e+01 -3.38312675e+02  3.25723645e+01\n",
      "  3.91509023e+02 -4.35711109e+01 -1.00954871e+02 -4.94988422e+02\n",
      " -1.71772517e+02 -2.09733465e+01  4.36983782e-13  5.53058109e+02\n",
      " -1.79477576e+02  6.08343748e+01 -2.69662975e+00  2.25967520e+02\n",
      "  9.95250121e+01 -3.29736064e+02  3.97854800e+02  4.23912432e+02\n",
      "  1.43747611e+02 -4.20543875e+02 -4.33336813e+02]\n",
      "-155182.07981818815\n"
     ]
    }
   ],
   "source": [
    "# Seleccionar modelo\n",
    "from sklearn.linear_model import LinearRegression\n",
    "# Elegir hiperparámetros\n",
    "model = LinearRegression(fit_intercept=True)\n",
    "# Preparar los datos en una matriz de features\n",
    "# Crear X e y\n",
    "Xb = df_mini_X_sin_expensas #2 dimensiones\n",
    "yb = df_mini_Y['price_usd_per_m2'] #1 dimensión\n",
    "\n",
    "# Split entrenamiento / testeo para CV\n",
    "from sklearn.model_selection import train_test_split\n",
    "Xtrain, Xtest, ytrain, ytest = train_test_split(Xb, yb, random_state=1)\n",
    "#Ajustar el modelo a los datos\n",
    "model.fit(Xtrain, ytrain)\n",
    "print (model.coef_)\n",
    "print (model.intercept_)"
   ]
  },
  {
   "cell_type": "code",
   "execution_count": 20,
   "metadata": {},
   "outputs": [
    {
     "name": "stdout",
     "output_type": "stream",
     "text": [
      "MAE: 323.6382501220633\n",
      "MSE: 169934.23818894956\n",
      "RMSE: 412.2308069382364\n",
      "R2: 0.4229146414632573\n"
     ]
    }
   ],
   "source": [
    "#Evaluar\n",
    "ypred = model.predict(Xtest)\n",
    "from sklearn import metrics\n",
    "print ('MAE:', metrics.mean_absolute_error(ytest, ypred))\n",
    "print ('MSE:', metrics.mean_squared_error(ytest, ypred))\n",
    "print ('RMSE:', np.sqrt(metrics.mean_squared_error(ytest, ypred)))\n",
    "print ('R2:', metrics.r2_score(ytest, ypred))"
   ]
  },
  {
   "cell_type": "markdown",
   "metadata": {},
   "source": [
    "### DF más grande tirando columna expenses"
   ]
  },
  {
   "cell_type": "code",
   "execution_count": 21,
   "metadata": {},
   "outputs": [
    {
     "name": "stdout",
     "output_type": "stream",
     "text": [
      "Index(['lat', 'lon', 'price_aprox_usd', 'surface_total_in_m2',\n",
      "       'price_usd_per_m2', 'dummy_property_type__apartment',\n",
      "       'dummy_property_type__house', 'dummy_property_type__store', 'distSubte',\n",
      "       'distParque', 'dummy_pileta', 'dummy_balcon', 'dummy_patio',\n",
      "       'dummy_lavadero', 'dummy_cochera', 'dummy_luminoso', 'dummy_terraza',\n",
      "       'dummy_quincho', 'dummy_baulera', 'dummy_parrilla', 'dummy_premium',\n",
      "       'dummy_piscina', 'dummy_ascensor', 'dummy_profesional', 'dummy_alarma',\n",
      "       'dummy_amenities', 'dummy_calefaccion', 'dummy_pozo', 'dummy_gimnasio',\n",
      "       'dummy_aire acondicionado', 'dummy_spa', 'dummy_jacuzzi', 'dummy_cine'],\n",
      "      dtype='object')\n",
      "(1410, 33)\n"
     ]
    }
   ],
   "source": [
    "# Y\n",
    "cols = ['property_type', 'description', 'title', 'expenses']\n",
    "df_no_expenses_Y = df.drop(cols, axis=1)\n",
    "df_no_expenses_Y = df_no_expenses_Y.dropna()\n",
    "print(df_no_expenses_Y.columns) \n",
    "print(df_no_expenses_Y.shape)"
   ]
  },
  {
   "cell_type": "code",
   "execution_count": 22,
   "metadata": {},
   "outputs": [
    {
     "name": "stdout",
     "output_type": "stream",
     "text": [
      "Index(['lat', 'lon', 'surface_total_in_m2', 'dummy_property_type__apartment',\n",
      "       'dummy_property_type__house', 'dummy_property_type__store', 'distSubte',\n",
      "       'distParque', 'dummy_pileta', 'dummy_balcon', 'dummy_patio',\n",
      "       'dummy_lavadero', 'dummy_cochera', 'dummy_luminoso', 'dummy_terraza',\n",
      "       'dummy_quincho', 'dummy_baulera', 'dummy_parrilla', 'dummy_premium',\n",
      "       'dummy_piscina', 'dummy_ascensor', 'dummy_profesional', 'dummy_alarma',\n",
      "       'dummy_amenities', 'dummy_calefaccion', 'dummy_pozo', 'dummy_gimnasio',\n",
      "       'dummy_aire acondicionado', 'dummy_spa', 'dummy_jacuzzi', 'dummy_cine'],\n",
      "      dtype='object')\n",
      "(1410, 31)\n"
     ]
    }
   ],
   "source": [
    "# X\n",
    "cols = ['price_aprox_usd','price_usd_per_m2']\n",
    "df_no_expenses_X = df_no_expenses_Y.drop(cols, axis=1)\n",
    "print(df_no_expenses_X.columns)\n",
    "print(df_no_expenses_X.shape)"
   ]
  },
  {
   "cell_type": "code",
   "execution_count": 23,
   "metadata": {},
   "outputs": [],
   "source": [
    "k = 36\n",
    "cols = df_no_expenses_Y.corr().nlargest(k,'price_usd_per_m2')['price_usd_per_m2'].index\n",
    "cm = df_no_expenses_Y[cols].corr()\n",
    "#plt.figure(figsize=(20,15))\n",
    "#sns.heatmap(cm, annot=True, cmap = 'OrRd');"
   ]
  },
  {
   "cell_type": "code",
   "execution_count": 24,
   "metadata": {},
   "outputs": [
    {
     "name": "stdout",
     "output_type": "stream",
     "text": [
      "[-699992.59214236  187977.88265855    1393.28905827   49640.51349515\n",
      "   10407.03279783  -15614.787909      2850.00298112   -3292.98518562\n",
      "   -1431.04898483   -8193.72027222    6461.74660081    8892.35662771\n",
      "   36299.05609176   -8317.61503716   13399.59315541    4231.3301916\n",
      "    1138.79249641   -3222.81491738   18682.79755563   24533.31117931\n",
      "  -16055.38351954  -21336.81800957   -8721.34344449    9327.34075247\n",
      "    6769.98159397  -37579.92771665  -17451.17996756   14647.19688406\n",
      "   20957.06905337  -35094.35204534    4898.55630255]\n",
      "-13233827.037587607\n"
     ]
    }
   ],
   "source": [
    "# Seleccionar modelo\n",
    "from sklearn.linear_model import LinearRegression\n",
    "# Elegir hiperparámetros\n",
    "model_1 = LinearRegression(fit_intercept=True)\n",
    "# Preparar los datos en una matriz de features\n",
    "# Crear X e y\n",
    "X1 = df_no_expenses_X #2 dimensiones\n",
    "y1 = df_no_expenses_Y['price_aprox_usd'] #1 dimensión\n",
    "\n",
    "# Split entrenamiento / testeo para CV\n",
    "from sklearn.model_selection import train_test_split\n",
    "Xtrain, Xtest, ytrain, ytest = train_test_split(X1, y1, random_state=1)\n",
    "#Ajustar el modelo a los datos\n",
    "model_1.fit(Xtrain, ytrain)\n",
    "print (model_1.coef_)\n",
    "print (model_1.intercept_)"
   ]
  },
  {
   "cell_type": "code",
   "execution_count": 25,
   "metadata": {},
   "outputs": [
    {
     "name": "stdout",
     "output_type": "stream",
     "text": [
      "MAE: 40813.89528967851\n",
      "MSE: 5641212131.87449\n",
      "RMSE: 75108.00311467807\n",
      "R2: 0.6346323976923609\n"
     ]
    }
   ],
   "source": [
    "#Evaluar\n",
    "ypred = model_1.predict(Xtest)\n",
    "from sklearn import metrics\n",
    "print ('MAE:', metrics.mean_absolute_error(ytest, ypred))\n",
    "print ('MSE:', metrics.mean_squared_error(ytest, ypred))\n",
    "print ('RMSE:', np.sqrt(metrics.mean_squared_error(ytest, ypred)))\n",
    "print ('R2:', metrics.r2_score(ytest, ypred))"
   ]
  },
  {
   "cell_type": "code",
   "execution_count": 26,
   "metadata": {
    "scrolled": true
   },
   "outputs": [
    {
     "data": {
      "image/png": "[encoded data removed]",
      "text/plain": [
       "<Figure size 432x288 with 1 Axes>"
      ]
     },
     "metadata": {},
     "output_type": "display_data"
    },
    {
     "name": "stdout",
     "output_type": "stream",
     "text": [
      "MSE: 4448787584.656973\n"
     ]
    }
   ],
   "source": [
    "def sum_mod(model, Xa):\n",
    "    a = pd.DataFrame(model.coef_ , Xa.columns.values)\n",
    "    a = a.append(pd.DataFrame([model.intercept_, model.score(Xa, ya)], index=['Intecept','R2']))\n",
    "    return(a)\n",
    "\n",
    "lm = linear_model.LinearRegression()\n",
    "Xa = df_no_expenses_X\n",
    "ya = df_no_expenses_Y['price_aprox_usd']\n",
    "model = lm.fit(Xa, ya)\n",
    "predictions = model.predict(Xa)\n",
    "\n",
    "# Plot the model\n",
    "plt.plot(ya,ya, '-.',c='grey')\n",
    "plt.scatter(predictions, ya, s=30, c='r', marker='+', zorder=10)\n",
    "plt.xlabel(\"Predicted Values from all values\")\n",
    "plt.ylabel(\"Actual Values\")\n",
    "plt.show()\n",
    "print (\"MSE:\", mean_squared_error(ya, predictions))\n",
    "#print (sum_mod(model, Xa))"
   ]
  },
  {
   "cell_type": "markdown",
   "metadata": {},
   "source": [
    "## LASSO sobre DS sin expensas"
   ]
  },
  {
   "cell_type": "code",
   "execution_count": 27,
   "metadata": {},
   "outputs": [
    {
     "data": {
      "text/plain": [
       "Lasso(alpha=1.0, copy_X=True, fit_intercept=True, max_iter=1000,\n",
       "   normalize=False, positive=False, precompute=False, random_state=None,\n",
       "   selection='cyclic', tol=0.0001, warm_start=False)"
      ]
     },
     "execution_count": 27,
     "metadata": {},
     "output_type": "execute_result"
    }
   ],
   "source": [
    "from sklearn.linear_model import Lasso\n",
    "from sklearn.model_selection import cross_val_score\n",
    "model = Lasso()\n",
    "model"
   ]
  },
  {
   "cell_type": "code",
   "execution_count": 28,
   "metadata": {},
   "outputs": [
    {
     "name": "stdout",
     "output_type": "stream",
     "text": [
      "(1410, 33)\n"
     ]
    }
   ],
   "source": [
    "df_random = df.sample(frac=1,random_state = 42)\n",
    "cols = ['property_type', 'description', 'title', 'expenses']\n",
    "df_no_expenses_Y_lasso = df_random.drop(cols, axis=1)\n",
    "df_no_expenses_Y_lasso = df_no_expenses_Y_lasso.dropna()\n",
    "print (df_no_expenses_Y_lasso.shape)"
   ]
  },
  {
   "cell_type": "code",
   "execution_count": 29,
   "metadata": {},
   "outputs": [
    {
     "name": "stdout",
     "output_type": "stream",
     "text": [
      "(1410, 31)\n"
     ]
    }
   ],
   "source": [
    "cols = ['price_aprox_usd','price_usd_per_m2']\n",
    "df_no_expenses_X_lasso = df_no_expenses_Y_lasso.drop(cols, axis=1)\n",
    "print (df_no_expenses_X_lasso.shape)"
   ]
  },
  {
   "cell_type": "code",
   "execution_count": 30,
   "metadata": {},
   "outputs": [],
   "source": [
    "Y_lasso = df_no_expenses_Y_lasso"
   ]
  },
  {
   "cell_type": "code",
   "execution_count": 31,
   "metadata": {},
   "outputs": [],
   "source": [
    "X_lasso = df_no_expenses_X_lasso"
   ]
  },
  {
   "cell_type": "code",
   "execution_count": 32,
   "metadata": {},
   "outputs": [
    {
     "name": "stdout",
     "output_type": "stream",
     "text": [
      "[0.70693747 0.59797841 0.6501397  0.65793559 0.60669014]\n",
      "0.6439362602574749\n",
      "0.039250511278245234\n"
     ]
    }
   ],
   "source": [
    "results = cross_val_score(model,X_lasso,Y_lasso,cv=5)\n",
    "print(results)\n",
    "print(np.mean(results))\n",
    "print(np.std(results))"
   ]
  },
  {
   "cell_type": "code",
   "execution_count": 33,
   "metadata": {},
   "outputs": [
    {
     "data": {
      "text/plain": [
       "Lasso(alpha=1.0, copy_X=True, fit_intercept=True, max_iter=1000,\n",
       "   normalize=False, positive=False, precompute=False, random_state=None,\n",
       "   selection='cyclic', tol=0.0001, warm_start=False)"
      ]
     },
     "execution_count": 33,
     "metadata": {},
     "output_type": "execute_result"
    }
   ],
   "source": [
    "model.fit(X_lasso,Y_lasso)"
   ]
  },
  {
   "cell_type": "code",
   "execution_count": 34,
   "metadata": {
    "scrolled": true
   },
   "outputs": [
    {
     "data": {
      "text/plain": [
       "array([[      0.        ,      -0.        ,      -0.        , ...,\n",
       "              0.        ,      -0.        ,       0.        ],\n",
       "       [     -0.        ,       0.        ,       0.        , ...,\n",
       "              0.        ,       0.        ,      -0.        ],\n",
       "       [     -0.        , -144919.89602452,    1350.78469094, ...,\n",
       "          17485.70846975,  -39822.61128464,   -1118.31489261],\n",
       "       ...,\n",
       "       [      0.        ,       0.        ,       0.        , ...,\n",
       "              0.        ,       0.        ,       0.        ],\n",
       "       [     -0.        ,       0.        ,      -0.        , ...,\n",
       "              0.        ,       0.        ,       0.        ],\n",
       "       [      0.        ,      -0.        ,      -0.        , ...,\n",
       "              0.        ,       0.        ,       0.        ]])"
      ]
     },
     "execution_count": 34,
     "metadata": {},
     "output_type": "execute_result"
    }
   ],
   "source": [
    "model.coef_"
   ]
  },
  {
   "cell_type": "code",
   "execution_count": 35,
   "metadata": {},
   "outputs": [
    {
     "data": {
      "text/plain": [
       "Index(['lat', 'lon', 'surface_total_in_m2', 'dummy_property_type__apartment',\n",
       "       'dummy_property_type__house', 'dummy_property_type__store', 'distSubte',\n",
       "       'distParque', 'dummy_pileta', 'dummy_balcon', 'dummy_patio',\n",
       "       'dummy_lavadero', 'dummy_cochera', 'dummy_luminoso', 'dummy_terraza',\n",
       "       'dummy_quincho', 'dummy_baulera', 'dummy_parrilla', 'dummy_premium',\n",
       "       'dummy_piscina', 'dummy_ascensor', 'dummy_profesional', 'dummy_alarma',\n",
       "       'dummy_amenities', 'dummy_calefaccion', 'dummy_pozo', 'dummy_gimnasio',\n",
       "       'dummy_aire acondicionado', 'dummy_spa', 'dummy_jacuzzi', 'dummy_cine'],\n",
       "      dtype='object')"
      ]
     },
     "execution_count": 35,
     "metadata": {},
     "output_type": "execute_result"
    }
   ],
   "source": [
    "X_lasso.columns"
   ]
  },
  {
   "cell_type": "code",
   "execution_count": 37,
   "metadata": {
    "scrolled": true
   },
   "outputs": [
    {
     "ename": "AttributeError",
     "evalue": "'Lasso' object has no attribute 'alpha_'",
     "output_type": "error",
     "traceback": [
      "\u001b[0;31m---------------------------------------------------------------------------\u001b[0m",
      "\u001b[0;31mAttributeError\u001b[0m                            Traceback (most recent call last)",
      "\u001b[0;32m<ipython-input-37-90f9fc10d45f>\u001b[0m in \u001b[0;36m<module>\u001b[0;34m()\u001b[0m\n\u001b[0;32m----> 1\u001b[0;31m \u001b[0mmodel\u001b[0m\u001b[0;34m.\u001b[0m\u001b[0malpha_\u001b[0m\u001b[0;34m\u001b[0m\u001b[0m\n\u001b[0m",
      "\u001b[0;31mAttributeError\u001b[0m: 'Lasso' object has no attribute 'alpha_'"
     ]
    }
   ],
   "source": [
    "model.alpha_"
   ]
  }
 ],
 "metadata": {
  "kernelspec": {
   "display_name": "Python 3",
   "language": "python",
   "name": "python3"
  },
  "language_info": {
   "codemirror_mode": {
    "name": "ipython",
    "version": 3
   },
   "file_extension": ".py",
   "mimetype": "text/x-python",
   "name": "python",
   "nbconvert_exporter": "python",
   "pygments_lexer": "ipython3",
   "version": "3.7.3"
  }
 },
 "nbformat": 4,
 "nbformat_minor": 2
}
